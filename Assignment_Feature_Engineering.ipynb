{
  "nbformat": 4,
  "nbformat_minor": 0,
  "metadata": {
    "colab": {
      "provenance": []
    },
    "kernelspec": {
      "name": "python3",
      "display_name": "Python 3"
    },
    "language_info": {
      "name": "python"
    }
  },
  "cells": [
    {
      "cell_type": "markdown",
      "source": [
        "#Q.1 What is a parameter?"
      ],
      "metadata": {
        "id": "d_9bs85YwBhp"
      }
    },
    {
      "cell_type": "markdown",
      "source": [
        "Ans:- A parameter is a value that the model learns during training. It helps the model make predictions, like weights and biases in a neural network."
      ],
      "metadata": {
        "id": "Kiv5tgAhwIAK"
      }
    },
    {
      "cell_type": "markdown",
      "source": [
        "#Q.2 What is correlation?\n",
        "#What does negative correlation mean?"
      ],
      "metadata": {
        "id": "aZDtPYHQwIDl"
      }
    },
    {
      "cell_type": "markdown",
      "source": [
        "Ans:- Correlation measures how two variables are related. It shows if one variable increases or decreases with another."
      ],
      "metadata": {
        "id": "xgHRkLFMwIHr"
      }
    },
    {
      "cell_type": "markdown",
      "source": [
        "Negative correlation means when one variable increases, the other decreases. For example, as temperature increases, the need for blankets decreases."
      ],
      "metadata": {
        "id": "goa2qnh8xIpZ"
      }
    },
    {
      "cell_type": "markdown",
      "source": [
        "#Q.3 Define Machine Learning. What are the main components in Machine Learning?"
      ],
      "metadata": {
        "id": "ch65yJelwILD"
      }
    },
    {
      "cell_type": "markdown",
      "source": [
        "Ans:- Machine Learning is a way for computers to learn from data and make decisions without being explicitly programmed. Its main components are data, algorithms, models, and evaluation metrics."
      ],
      "metadata": {
        "id": "gNu29UArwISS"
      }
    },
    {
      "cell_type": "markdown",
      "source": [
        "#Q.4 How does loss value help in determining whether the model is good or not?"
      ],
      "metadata": {
        "id": "Kq-vS7wmwIVx"
      }
    },
    {
      "cell_type": "markdown",
      "source": [
        "Ans:- Loss value shows how far off the model's predictions are from actual results. A lower loss means a better model."
      ],
      "metadata": {
        "id": "HyY_IK4_wIYx"
      }
    },
    {
      "cell_type": "markdown",
      "source": [
        "#Q.5 What are continuous and categorical variables?"
      ],
      "metadata": {
        "id": "h0Rg83mewIcR"
      }
    },
    {
      "cell_type": "markdown",
      "source": [
        "Ans:- Continuous variables are numerical and can take any value, like height or temperature. Categorical variables are groups or categories, like colors or genders."
      ],
      "metadata": {
        "id": "SCQrscYfy1Ro"
      }
    },
    {
      "cell_type": "markdown",
      "source": [
        "#Q.6 How do we handle categorical variables in Machine Learning? What are the common techniques?"
      ],
      "metadata": {
        "id": "qmjICPr7wIfx"
      }
    },
    {
      "cell_type": "markdown",
      "source": [
        "Ans:- We convert categorical data into numbers using methods like one-hot encoding or label encoding."
      ],
      "metadata": {
        "id": "5W1YOE0Zy5Xi"
      }
    },
    {
      "cell_type": "markdown",
      "source": [
        "#Q.7 What do you mean by training and testing a dataset?"
      ],
      "metadata": {
        "id": "9iofszhGwIjU"
      }
    },
    {
      "cell_type": "markdown",
      "source": [
        "Ans:- Training data is used to teach the model, while testing data checks if the model works well on new, unseen data."
      ],
      "metadata": {
        "id": "ZMedUfOVy_Kz"
      }
    },
    {
      "cell_type": "markdown",
      "source": [
        "#Q.8 What is sklearn.preprocessing?"
      ],
      "metadata": {
        "id": "D4dTRSShwImy"
      }
    },
    {
      "cell_type": "markdown",
      "source": [
        "Ans:- It’s a Python library module that helps prepare data by scaling, encoding, or transforming it for machine learning."
      ],
      "metadata": {
        "id": "G45k7L4ozCmC"
      }
    },
    {
      "cell_type": "markdown",
      "source": [
        "#Q.9 What is a Test set?"
      ],
      "metadata": {
        "id": "8YBMwdoPwIqa"
      }
    },
    {
      "cell_type": "markdown",
      "source": [
        "Ans:- A test set is a part of the dataset used to check how well the trained model performs."
      ],
      "metadata": {
        "id": "0q3xntRyzHxc"
      }
    },
    {
      "cell_type": "markdown",
      "source": [
        "#Q.10 How do we split data for model fitting (training and testing) in Python?\n",
        "#How do you approach a Machine Learning problem?"
      ],
      "metadata": {
        "id": "IfC0RdcywItx"
      }
    },
    {
      "cell_type": "markdown",
      "source": [
        "Ans:- We use libraries like train_test_split from sklearn to divide data into training and testing sets, usually in an 80:20 or 70:30 ratio.\n",
        "\n",
        "Understand the problem.\n",
        "Gather and clean the data.\n",
        "Perform Exploratory Data Analysis (EDA).\n",
        "Choose and train a model.\n",
        "Test the model and improve it if needed.\n",
        "Deploy the model."
      ],
      "metadata": {
        "id": "MUexb1idzLWU"
      }
    },
    {
      "cell_type": "markdown",
      "source": [
        "#Q.11 Why do we have to perform EDA before fitting a model to the data?"
      ],
      "metadata": {
        "id": "S2DUFMxkwIxm"
      }
    },
    {
      "cell_type": "markdown",
      "source": [
        "Ans:- EDA helps us understand the data's patterns, relationships, and issues like missing values or outliers, which improves the model's accuracy."
      ],
      "metadata": {
        "id": "S1kDq77SzPCM"
      }
    },
    {
      "cell_type": "markdown",
      "source": [
        "#Q.12 What is correlation?\n"
      ],
      "metadata": {
        "id": "Wm3xHtQZwI0S"
      }
    },
    {
      "cell_type": "markdown",
      "source": [
        "Ans:- Correlation measures how two variables are related. It shows if one variable increases or decreases with another."
      ],
      "metadata": {
        "id": "YIu4vSSKziMf"
      }
    },
    {
      "cell_type": "markdown",
      "source": [
        "#Q.13 What does negative correlation mean?"
      ],
      "metadata": {
        "id": "OlzIClfowI3Y"
      }
    },
    {
      "cell_type": "markdown",
      "source": [
        "Ans:- Negative correlation means when one variable increases, the other decreases. For example, as temperature increases, the need for blankets decreases."
      ],
      "metadata": {
        "id": "cwCv0xBgzqSR"
      }
    },
    {
      "cell_type": "markdown",
      "source": [
        "#Q.14 How can you find correlation between variables in Python?"
      ],
      "metadata": {
        "id": "T7GhZzINwI7B"
      }
    },
    {
      "cell_type": "markdown",
      "source": [
        "Ans:- Use the corr() function in Pandas or visualization tools like seaborn.heatmap() to see relationships between variables.\n",
        "\n"
      ],
      "metadata": {
        "id": "64cFXGzfzt-R"
      }
    },
    {
      "cell_type": "markdown",
      "source": [
        "#Q.15 What is causation? Explain difference between correlation and causation with an example"
      ],
      "metadata": {
        "id": "b8AT-mLBwI-T"
      }
    },
    {
      "cell_type": "markdown",
      "source": [
        "Ans:- Causation means one variable directly affects another.\n",
        "Example: Eating healthy (cause) improves health (effect).\n",
        "Correlation shows a relationship but doesn’t prove one causes the other."
      ],
      "metadata": {
        "id": "qXtCjhF9zzFj"
      }
    },
    {
      "cell_type": "markdown",
      "source": [
        "#Q.16 What is an Optimizer? What are different types of optimizers? Explain each with an example."
      ],
      "metadata": {
        "id": "LweEyxbFwJBB"
      }
    },
    {
      "cell_type": "markdown",
      "source": [
        "Ans:- An optimizer adjusts model parameters to minimize loss. Examples:\n",
        "\n",
        "* Gradient Descent: Simple and widely used.\n",
        "* Adam Optimizer: Combines momentum and RMSProp for efficiency.\n",
        "* RMSProp: Works well for non-stationary data."
      ],
      "metadata": {
        "id": "utQYaj4Bz3AK"
      }
    },
    {
      "cell_type": "markdown",
      "source": [
        "#Q.17 What is sklearn.linear_model ?"
      ],
      "metadata": {
        "id": "Xv_V8h5xwJEk"
      }
    },
    {
      "cell_type": "markdown",
      "source": [
        "Ans:- It's a Python module in sklearn that includes linear models like Linear Regression, Logistic Regression, etc."
      ],
      "metadata": {
        "id": "RLOnpBC_z8ss"
      }
    },
    {
      "cell_type": "markdown",
      "source": [
        "#Q.18 What does model.fit() do? What arguments must be given?"
      ],
      "metadata": {
        "id": "hv6BkoatyMLT"
      }
    },
    {
      "cell_type": "markdown",
      "source": [
        "Ans:- model.fit() trains the model using input data and target values. It requires arguments like X (features) and y (labels)."
      ],
      "metadata": {
        "id": "xS0Fe68yz_7E"
      }
    },
    {
      "cell_type": "markdown",
      "source": [
        "#Q.19 What does model.predict() do? What arguments must be given?"
      ],
      "metadata": {
        "id": "vSz4tInUyMSD"
      }
    },
    {
      "cell_type": "markdown",
      "source": [
        "Ans:- model.predict() uses the trained model to make predictions. It needs X_test, the input data for predictions."
      ],
      "metadata": {
        "id": "Zg-uCpVV0DFU"
      }
    },
    {
      "cell_type": "markdown",
      "source": [
        "#Q.20 What are continuous and categorical variables?"
      ],
      "metadata": {
        "id": "ZD7AyDuryMZu"
      }
    },
    {
      "cell_type": "markdown",
      "source": [
        "Ans:-  Continuous variables are numerical and can take any value, like height or temperature. Categorical variables are groups or categories, like colors or genders."
      ],
      "metadata": {
        "id": "h8fYuEb60G2k"
      }
    },
    {
      "cell_type": "markdown",
      "source": [
        "#Q.21 What is feature scaling? How does it help in Machine Learning?"
      ],
      "metadata": {
        "id": "JbgHXmpxyNAE"
      }
    },
    {
      "cell_type": "markdown",
      "source": [
        "Ans:- Feature scaling ensures all variables have a similar scale, improving model accuracy and training speed."
      ],
      "metadata": {
        "id": "VDYz4Cvo0KKz"
      }
    },
    {
      "cell_type": "markdown",
      "source": [
        "#Q.22 How do we perform scaling in Python?"
      ],
      "metadata": {
        "id": "3doBFQXAyNGO"
      }
    },
    {
      "cell_type": "markdown",
      "source": [
        "Ans:- Use StandardScaler or MinMaxScaler from sklearn.preprocessing to normalize or standardize the data."
      ],
      "metadata": {
        "id": "4DRBPxjB0NOm"
      }
    },
    {
      "cell_type": "markdown",
      "source": [
        "#Q.23 What is sklearn.preprocessing?"
      ],
      "metadata": {
        "id": "TIQry7ePyNMN"
      }
    },
    {
      "cell_type": "markdown",
      "source": [
        "Ans:- It’s a Python library module that helps prepare data by scaling, encoding, or transforming it for machine learning."
      ],
      "metadata": {
        "id": "U3TLmgCP0gGv"
      }
    },
    {
      "cell_type": "markdown",
      "source": [
        "#Q.24 How do we split data for model fitting (training and testing) in Python?"
      ],
      "metadata": {
        "id": "a1NahoNOyNRy"
      }
    },
    {
      "cell_type": "markdown",
      "source": [
        "Ans:- We use libraries like train_test_split from sklearn to divide data into training and testing sets, usually in an 80:20 or 70:30 ratio.\n",
        "\n",
        "Understand the problem. Gather and clean the data. Perform Exploratory Data Analysis (EDA). Choose and train a model. Test the model and improve it if needed. Deploy the model."
      ],
      "metadata": {
        "id": "TkhYTj3I0Y7_"
      }
    },
    {
      "cell_type": "markdown",
      "source": [
        "#Q.25 Explain data encoding?"
      ],
      "metadata": {
        "id": "Xg2x8FxbyNV1"
      }
    },
    {
      "cell_type": "markdown",
      "source": [
        "Ans:- Data encoding converts categorical data into numerical format so models can process it, using methods like one-hot encoding or label encoding."
      ],
      "metadata": {
        "id": "QExqqVgT0TOX"
      }
    }
  ]
}