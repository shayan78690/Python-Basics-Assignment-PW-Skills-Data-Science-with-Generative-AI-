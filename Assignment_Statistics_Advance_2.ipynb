{
  "nbformat": 4,
  "nbformat_minor": 0,
  "metadata": {
    "colab": {
      "provenance": []
    },
    "kernelspec": {
      "name": "python3",
      "display_name": "Python 3"
    },
    "language_info": {
      "name": "python"
    }
  },
  "cells": [
    {
      "cell_type": "markdown",
      "source": [
        "#Theory Questions"
      ],
      "metadata": {
        "id": "TpTaPHYXVvia"
      }
    },
    {
      "cell_type": "markdown",
      "source": [
        "Q.1. What is hypothesis testing in statistics?\n",
        "\n",
        "Ans:- Hypothesis testing is a statistical method used to determine if there is enough evidence to reject a null hypothesis (\n",
        "𝐻\n",
        "0\n",
        "H\n",
        "0\n",
        "​\n",
        " ) in favor of an alternative hypothesis (\n",
        "𝐻\n",
        "1\n",
        "H\n",
        "1\n",
        "​\n",
        " ). It helps in making data-driven decisions."
      ],
      "metadata": {
        "id": "4nHIMz2ZV2O5"
      }
    },
    {
      "cell_type": "markdown",
      "source": [
        "Q.2. What is the null hypothesis, and how does it differ from the alternative hypothesis?\n",
        "\n",
        "\n",
        "Ans:- Null Hypothesis (\n",
        "𝐻\n",
        "0\n",
        "H\n",
        "0\n",
        "​\n",
        " ): Assumes no effect or no difference (status quo).\n",
        "Alternative Hypothesis (\n",
        "𝐻\n",
        "1\n",
        "H\n",
        "1\n",
        "​\n",
        " ): Suggests there is an effect or a difference.\n",
        "\n",
        " Example:\n",
        "\n",
        "\n",
        "H\n",
        "0\n",
        "​\n",
        " : A new drug has no effect.\n",
        "\n",
        "\n",
        "H\n",
        "1\n",
        "​\n",
        " : The new drug is effective.\n"
      ],
      "metadata": {
        "id": "dN1nV5iJV2WD"
      }
    },
    {
      "cell_type": "markdown",
      "source": [
        "\n",
        "Q.3. What is the significance level in hypothesis testing, and why is it important?\n",
        "\n",
        "Ans:- The significance level (\n",
        "𝛼\n",
        "α) is the probability of rejecting the null hypothesis when it is actually true (Type I error).\n",
        "\n",
        "\n",
        "* Common values: 0.05 (5%) or 0.01 (1%)\n",
        "\n",
        "* If P-value <\n",
        "𝛼\n",
        "α, reject\n",
        "𝐻\n",
        "0\n",
        "H\n",
        "0\n",
        "​\n",
        " .\n"
      ],
      "metadata": {
        "id": "UQ54YOp-V2c1"
      }
    },
    {
      "cell_type": "markdown",
      "source": [
        "Q.4. What does a P-value represent in hypothesis testing?\n",
        "\n",
        "Ans:- The P-value measures the probability of obtaining results at least as extreme as the observed data, assuming\n",
        "𝐻\n",
        "0\n",
        "H\n",
        "0\n",
        "​\n",
        "  is true.\n",
        "\n",
        "\n",
        "* Low P-value (<\n",
        "𝛼\n",
        "α) → Strong evidence against\n",
        "𝐻\n",
        "0\n",
        "H\n",
        "0\n",
        "​\n",
        " .\n",
        "\n",
        "* High P-value (>\n",
        "𝛼\n",
        "α) → Weak evidence against\n",
        "𝐻\n",
        "0\n",
        "H\n",
        "0\n",
        "​\n",
        " ."
      ],
      "metadata": {
        "id": "YwwYaX5MV2iz"
      }
    },
    {
      "cell_type": "markdown",
      "source": [
        "Q. 5. How do you interpret the P-value in hypothesis testing?\n",
        "\n",
        "Ans:-\n",
        "* P-value < 0.05 → Reject\n",
        "𝐻\n",
        "0\n",
        "H\n",
        "0\n",
        "​\n",
        "  (Statistically significant).\n",
        "\n",
        "* P-value > 0.05 → Fail to reject\n",
        "𝐻\n",
        "0\n",
        "H\n",
        "0\n",
        "​\n",
        "  (Not significant).\n",
        "\n",
        "Example: If P-value = 0.03 and\n",
        "𝛼\n",
        "=\n",
        "0.05\n",
        "α=0.05, we reject\n",
        "𝐻\n",
        "0\n",
        "H\n",
        "0\n",
        "​\n",
        " ."
      ],
      "metadata": {
        "id": "RwAkQbuCV2pT"
      }
    },
    {
      "cell_type": "markdown",
      "source": [
        "Q. 6. What are Type 1 and Type 2 errors in hypothesis testing?\n",
        "\n",
        "Ans:-\n",
        "* Type 1 Error (False Positive): Rejecting\n",
        "𝐻\n",
        "0\n",
        "H\n",
        "0\n",
        "​\n",
        "  when it is actually true.\n",
        "\n",
        "* Type 2 Error (False Negative): Failing to reject\n",
        "𝐻\n",
        "0\n",
        "H\n",
        "0\n",
        "​\n",
        "  when it is actually false.\n",
        "\n",
        "Example:\n",
        "\n",
        "Type 1: Saying a drug works when it actually doesn’t.\n",
        "\n",
        "Type 2: Saying a drug doesn’t work when it actually does."
      ],
      "metadata": {
        "id": "cGMnxoaUV2vK"
      }
    },
    {
      "cell_type": "markdown",
      "source": [
        "Q. 7. What is the difference between a one-tailed and a two-tailed test in hypothesis testing?\n",
        "\n",
        "Ans:_\n",
        "* One-tailed test: Tests if a value is only greater or only less than a threshold.\n",
        "* Two-tailed test: Tests if a value is different (either greater or lesser).\n",
        "\n",
        "Example:\n",
        "\n",
        "* One-tailed: Testing if a new teaching method is better than the old one.\n",
        "* Two-tailed: Testing if a new teaching method is different (better or worse).\n"
      ],
      "metadata": {
        "id": "Jp4jY4DkV21U"
      }
    },
    {
      "cell_type": "markdown",
      "source": [
        "Q. 8. What is the Z-test, and when is it used in hypothesis testing?\n",
        "A Z-test is used when:\n",
        "\n",
        "Ans:-\n",
        "* Sample size n > 30 (large sample).\n",
        "* Population variance is known.\n",
        "\n",
        "Example: Comparing the mean height of students in two universities."
      ],
      "metadata": {
        "id": "GaYe-MSiV27a"
      }
    },
    {
      "cell_type": "markdown",
      "source": [
        "Q.9. How do you calculate the Z-score, and what does it represent in hypothesis testing?\n",
        "\n",
        "Ans:-\n",
        "Z = (X - mu) / sigma / root(n)\n",
        "\n",
        "Where:\n",
        "\n",
        "X = Sample mean\n",
        "\n",
        "μ = Population mean\n",
        "\n",
        "σ = Standard deviation\n",
        "\n",
        "n = Sample size\n",
        "\n",
        "The Z-score tells how many standard deviations a sample is from the population mean."
      ],
      "metadata": {
        "id": "NRNTYGZBV3BJ"
      }
    },
    {
      "cell_type": "markdown",
      "source": [
        "Q.10. What is the T-distribution, and when should it be used instead of the normal distribution?\n",
        "Ans:-\n",
        "* T-distribution is used instead of the normal distribution when:\n",
        "    * Sample size is small (\n",
        "𝑛\n",
        "<\n",
        "30\n",
        "n<30).\n",
        "    * Population variance is unknown."
      ],
      "metadata": {
        "id": "4Ef7hpkdV3HV"
      }
    },
    {
      "cell_type": "markdown",
      "source": [
        "Q.11. What is the difference between a Z-test and a T-test?\n",
        "Ans:- ![Screenshot 2025-02-02 165202.png](data:image/png;base64,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)"
      ],
      "metadata": {
        "id": "ii3roooMV3TT"
      }
    },
    {
      "cell_type": "markdown",
      "source": [
        "Q.12. What is the T-test, and how is it used in hypothesis testing?\n",
        "\n",
        "Ans:-A T-test compares means when variance is unknown. Types:\n",
        "\n",
        "1. One-sample T-test → Compares sample mean with population mean.\n",
        "2. Two-sample T-test → Compares means of two independent groups.\n",
        "3. Paired T-test → Compares means of related groups (before & after test)."
      ],
      "metadata": {
        "id": "DSroJCKDV3Y8"
      }
    },
    {
      "cell_type": "markdown",
      "source": [
        "Q.13. What is the relationship between Z-test and T-test in hypothesis testing?\n",
        "\n",
        "Ans:- Both Z-test and T-test test population means.\n",
        "\n",
        "* Z-test is used for large samples.\n",
        "* T-test is used for small samples.\n",
        "\n",
        "When sample size increases, the T-distribution approaches the normal Z-distribution.\n",
        "\n"
      ],
      "metadata": {
        "id": "I-Bj-1sWV3ee"
      }
    },
    {
      "cell_type": "markdown",
      "source": [
        "Q.14. What is a confidence interval, and how is it used to interpret statistical results?\n",
        "\n",
        "Ans:- A confidence interval (CI) gives a range where the true population parameter is likely to be found.\n",
        "\n",
        "Example: If a 95% CI = (48, 52), we are 95% confident that the true mean is between 48 and 52."
      ],
      "metadata": {
        "id": "HwNrEcbLV3lF"
      }
    },
    {
      "cell_type": "markdown",
      "source": [
        "Q.15. What is the margin of error, and how does it affect the confidence interval?\n",
        "\n",
        "Ans:- The margin of error is the range of uncertainty in a confidence interval.\n",
        "Formula:\n",
        "\n",
        "Margin of Error\n",
        "=\n",
        "𝑍\n",
        "×\n",
        "𝜎\n",
        "𝑛\n",
        "\n",
        "* Smaller margin of error → More precise estimate.\n",
        "* Larger margin of error → Less precise estimate.\n",
        "\n"
      ],
      "metadata": {
        "id": "DZV3mNoxV3rM"
      }
    },
    {
      "cell_type": "markdown",
      "source": [
        "Q.16. How is Bayes' Theorem used in statistics, and what is its significance?\n",
        "\n",
        "\n",
        "Ans:-\n",
        "Bayes' Theorem updates probabilities based on new evidence.\n",
        "\n",
        "\n",
        "Formula:\n",
        "\n",
        "\n",
        "𝑃\n",
        "(\n",
        "𝐴\n",
        "∣\n",
        "𝐵\n",
        ")\n",
        "=\n",
        "𝑃\n",
        "(\n",
        "𝐵\n",
        "∣\n",
        "𝐴\n",
        ")\n",
        "𝑃\n",
        "(\n",
        "𝐴\n",
        ") /\n",
        "𝑃\n",
        "(\n",
        "𝐵\n",
        ")\n",
        "\n",
        "Example: Used in medical tests to find the probability of having a disease given a positive test result.\n"
      ],
      "metadata": {
        "id": "vMWp1JQIV31K"
      }
    },
    {
      "cell_type": "markdown",
      "source": [
        "Q.17. What is the Chi-square distribution, and when is it used?\n",
        "\n",
        "Ans:- The Chi-square distribution is used for:\n",
        "\n",
        "\n",
        "* Categorical data analysis\n",
        "* Goodness-of-fit tests\n",
        "* Testing independence between two variables"
      ],
      "metadata": {
        "id": "B-67fi6UV5QL"
      }
    },
    {
      "cell_type": "markdown",
      "source": [
        "Q.18. What is the Chi-square goodness-of-fit test, and how is it applied?\n",
        "\n",
        "Ans: -The Chi-square goodness-of-fit test checks if observed data matches expected data.\n",
        "\n",
        "Example: Checking if dice rolls follow a uniform distribution."
      ],
      "metadata": {
        "id": "DUYIa8S_V5YM"
      }
    },
    {
      "cell_type": "markdown",
      "source": [
        "Q.19. What is the F-distribution, and when is it used in hypothesis testing?\n",
        "\n",
        "Ans:- The F-distribution is used in:\n",
        "\n",
        "\n",
        "* Comparing variances\n",
        "* ANOVA (Analysis of Variance) tests\n"
      ],
      "metadata": {
        "id": "TXACtnz7V5eu"
      }
    },
    {
      "cell_type": "markdown",
      "source": [
        "Q.20. What is an ANOVA test, and what are its assumptions?\n",
        "\n",
        "Ans:-\n",
        "ANOVA (Analysis of Variance) tests if three or more groups have the same mean.\n",
        "\n",
        "\n",
        "Assumptions:\n",
        "\n",
        "* Normality (Data should be normally distributed).\n",
        "* Independence (Samples should be independent).\n",
        "* Equal Variance (All groups should have similar variances).\n"
      ],
      "metadata": {
        "id": "UOyb-OWjV5lz"
      }
    },
    {
      "cell_type": "markdown",
      "source": [
        "Q.21. What are the different types of ANOVA tests?\n",
        "Ans:-\n",
        "* One-way ANOVA: Tests one factor (e.g., different teaching methods).\n",
        "* Two-way ANOVA: Tests two factors (e.g., teaching method & gender).\n"
      ],
      "metadata": {
        "id": "iWJFdSWyV5rw"
      }
    },
    {
      "cell_type": "markdown",
      "source": [
        "Q.22. What is the F-test, and how does it relate to hypothesis testing?\n",
        "\n",
        "Ans:-\n",
        "The F-test compares two variances to check if they are equal. It is used in ANOVA and regression analysis."
      ],
      "metadata": {
        "id": "Dljj4o0abQMr"
      }
    },
    {
      "cell_type": "markdown",
      "source": [
        "#Practical"
      ],
      "metadata": {
        "id": "bVTdcbRdbWl7"
      }
    },
    {
      "cell_type": "markdown",
      "source": [
        "1. Write a Python program to perform a Z-test for comparing a sample mean to a known population mean and interpret the results.\n",
        "\n"
      ],
      "metadata": {
        "id": "grYuaKdkbbKr"
      }
    },
    {
      "cell_type": "code",
      "source": [
        "import scipy.stats as stats\n",
        "\n",
        "# Given data\n",
        "sample_mean = 50\n",
        "population_mean = 55\n",
        "std_dev = 10\n",
        "sample_size = 30\n",
        "\n",
        "# Compute Z-score\n",
        "z_score = (sample_mean - population_mean) / (std_dev / (sample_size ** 0.5))\n",
        "\n",
        "# Compute P-value\n",
        "p_value = stats.norm.sf(abs(z_score)) * 2  # Two-tailed test\n",
        "\n",
        "print(f\"Z-score: {z_score}\")\n",
        "print(f\"P-value: {p_value}\")\n",
        "\n",
        "if p_value < 0.05:\n",
        "    print(\"Reject the null hypothesis\")\n",
        "else:\n",
        "    print(\"Fail to reject the null hypothesis\")\n"
      ],
      "metadata": {
        "colab": {
          "base_uri": "https://localhost:8080/"
        },
        "id": "siPKYDyvbjAm",
        "outputId": "6443bff5-2332-42e3-9287-31c0f226f25b"
      },
      "execution_count": 1,
      "outputs": [
        {
          "output_type": "stream",
          "name": "stdout",
          "text": [
            "Z-score: -2.7386127875258306\n",
            "P-value: 0.00616989932054416\n",
            "Reject the null hypothesis\n"
          ]
        }
      ]
    },
    {
      "cell_type": "markdown",
      "source": [
        "2. Simulate random data to perform hypothesis testing and calculate the corresponding P-value using Python"
      ],
      "metadata": {
        "id": "mcr1LJk3bbPe"
      }
    },
    {
      "cell_type": "code",
      "source": [
        "import numpy as np\n",
        "import scipy.stats as stats\n",
        "\n",
        "# Generate random data (simulating a normal distribution)\n",
        "np.random.seed(42)\n",
        "sample_data = np.random.normal(loc=50, scale=10, size=30)\n",
        "\n",
        "# Perform one-sample T-test\n",
        "t_stat, p_value = stats.ttest_1samp(sample_data, popmean=55)\n",
        "\n",
        "print(f\"T-statistic: {t_stat}\")\n",
        "print(f\"P-value: {p_value}\")\n",
        "\n",
        "if p_value < 0.05:\n",
        "    print(\"Reject the null hypothesis\")\n",
        "else:\n",
        "    print(\"Fail to reject the null hypothesis\")\n"
      ],
      "metadata": {
        "colab": {
          "base_uri": "https://localhost:8080/"
        },
        "id": "W5ogMrdQbvcA",
        "outputId": "a05f99e8-af17-4eeb-cfb0-695e691855ee"
      },
      "execution_count": 2,
      "outputs": [
        {
          "output_type": "stream",
          "name": "stdout",
          "text": [
            "T-statistic: -4.187898733374775\n",
            "P-value: 0.00023965836838861376\n",
            "Reject the null hypothesis\n"
          ]
        }
      ]
    },
    {
      "cell_type": "markdown",
      "source": [
        "3. Implement a one-sample Z-test using Python to compare the sample mean with the population mean"
      ],
      "metadata": {
        "id": "sb2b-CtLbbVe"
      }
    },
    {
      "cell_type": "code",
      "source": [
        "import scipy.stats as stats\n",
        "\n",
        "# Sample data\n",
        "sample_mean = 52\n",
        "population_mean = 50\n",
        "std_dev = 8\n",
        "sample_size = 40\n",
        "\n",
        "# Calculate Z-score\n",
        "z_score = (sample_mean - population_mean) / (std_dev / (sample_size ** 0.5))\n",
        "\n",
        "# Compute P-value\n",
        "p_value = stats.norm.sf(abs(z_score)) * 2\n",
        "\n",
        "print(f\"Z-score: {z_score}\")\n",
        "print(f\"P-value: {p_value}\")\n",
        "\n",
        "if p_value < 0.05:\n",
        "    print(\"Reject the null hypothesis\")\n",
        "else:\n",
        "    print(\"Fail to reject the null hypothesis\")\n"
      ],
      "metadata": {
        "colab": {
          "base_uri": "https://localhost:8080/"
        },
        "id": "9d8yDIujb1uQ",
        "outputId": "b055b720-17ad-4be3-ca2b-c1a7abf7a325"
      },
      "execution_count": 3,
      "outputs": [
        {
          "output_type": "stream",
          "name": "stdout",
          "text": [
            "Z-score: 1.5811388300841895\n",
            "P-value: 0.11384629800665805\n",
            "Fail to reject the null hypothesis\n"
          ]
        }
      ]
    },
    {
      "cell_type": "markdown",
      "source": [
        "4. Perform a two-tailed Z-test using Python and visualize the decision region on a plot"
      ],
      "metadata": {
        "id": "X_FVVf96bbZr"
      }
    },
    {
      "cell_type": "code",
      "source": [
        "import numpy as np\n",
        "import matplotlib.pyplot as plt\n",
        "import scipy.stats as stats\n",
        "\n",
        "# Define Z critical values for alpha = 0.05 (two-tailed test)\n",
        "z_critical = stats.norm.ppf(0.975)  # 97.5% for two-tailed test\n",
        "\n",
        "# Generate Z distribution\n",
        "z_values = np.linspace(-4, 4, 1000)\n",
        "pdf = stats.norm.pdf(z_values)\n",
        "\n",
        "plt.figure(figsize=(10, 5))\n",
        "plt.plot(z_values, pdf, label=\"Normal Distribution\")\n",
        "\n",
        "# Shade rejection regions\n",
        "plt.fill_between(z_values, pdf, where=(z_values > z_critical) | (z_values < -z_critical), color='red', alpha=0.5, label=\"Rejection Region\")\n",
        "\n",
        "plt.axvline(z_critical, color='black', linestyle='dashed', label=\"Critical Z\")\n",
        "plt.axvline(-z_critical, color='black', linestyle='dashed')\n",
        "\n",
        "plt.title(\"Two-tailed Z-test Decision Region\")\n",
        "plt.legend()\n",
        "plt.show()\n"
      ],
      "metadata": {
        "colab": {
          "base_uri": "https://localhost:8080/",
          "height": 468
        },
        "id": "-sN9sMayb7yB",
        "outputId": "8190d9d9-41a0-4678-b9b7-948b10784956"
      },
      "execution_count": 4,
      "outputs": [
        {
          "output_type": "display_data",
          "data": {
            "text/plain": [
              "<Figure size 1000x500 with 1 Axes>"
            ],
            "image/png": "[encoded data removed]"
          },
          "metadata": {}
        }
      ]
    },
    {
      "cell_type": "markdown",
      "source": [
        "5. Create a Python function that calculates and visualizes Type 1 and Type 2 errors"
      ],
      "metadata": {
        "id": "qedH_K2Ubbec"
      }
    },
    {
      "cell_type": "code",
      "source": [
        "import numpy as np\n",
        "import matplotlib.pyplot as plt\n",
        "import scipy.stats as stats\n",
        "\n",
        "def plot_errors():\n",
        "    x = np.linspace(-4, 4, 1000)\n",
        "    null_dist = stats.norm.pdf(x, 0, 1)\n",
        "    alt_dist = stats.norm.pdf(x, 1.5, 1)  # Alternative hypothesis distribution\n",
        "\n",
        "    plt.figure(figsize=(10, 5))\n",
        "    plt.plot(x, null_dist, label=\"Null Distribution (H0)\")\n",
        "    plt.plot(x, alt_dist, label=\"Alternative Distribution (H1)\", linestyle=\"dashed\")\n",
        "\n",
        "    plt.fill_between(x, null_dist, where=(x > 1.5), color='red', alpha=0.3, label=\"Type 1 Error (α)\")\n",
        "    plt.fill_between(x, alt_dist, where=(x < 1.5), color='blue', alpha=0.3, label=\"Type 2 Error (β)\")\n",
        "\n",
        "    plt.axvline(1.5, color='black', linestyle='dashed', label=\"Decision Threshold\")\n",
        "    plt.legend()\n",
        "    plt.title(\"Type 1 and Type 2 Errors\")\n",
        "    plt.show()\n",
        "\n",
        "plot_errors()\n"
      ],
      "metadata": {
        "colab": {
          "base_uri": "https://localhost:8080/",
          "height": 468
        },
        "id": "AduCAmVncCVy",
        "outputId": "4771954e-0adb-4076-c698-146d2dbf29db"
      },
      "execution_count": 5,
      "outputs": [
        {
          "output_type": "display_data",
          "data": {
            "text/plain": [
              "<Figure size 1000x500 with 1 Axes>"
            ],
            "image/png": "[encoded data removed]"
          },
          "metadata": {}
        }
      ]
    },
    {
      "cell_type": "markdown",
      "source": [
        "6. Write a Python program to perform an independent T-test and interpret the results"
      ],
      "metadata": {
        "id": "5g37yO2wbbiQ"
      }
    },
    {
      "cell_type": "code",
      "source": [
        "import numpy as np\n",
        "import scipy.stats as stats\n",
        "\n",
        "# Sample data for two independent groups\n",
        "group1 = np.array([52, 55, 53, 50, 51, 54])\n",
        "group2 = np.array([49, 48, 47, 46, 50, 52])\n",
        "\n",
        "# Perform independent T-test\n",
        "t_stat, p_value = stats.ttest_ind(group1, group2)\n",
        "\n",
        "print(f\"T-statistic: {t_stat}\")\n",
        "print(f\"P-value: {p_value}\")\n",
        "\n",
        "if p_value < 0.05:\n",
        "    print(\"Reject the null hypothesis\")\n",
        "else:\n",
        "    print(\"Fail to reject the null hypothesis\")\n"
      ],
      "metadata": {
        "colab": {
          "base_uri": "https://localhost:8080/"
        },
        "id": "dGmT7v-scKFM",
        "outputId": "a45ab0a0-8387-44b5-f6b7-193c22f151ae"
      },
      "execution_count": 6,
      "outputs": [
        {
          "output_type": "stream",
          "name": "stdout",
          "text": [
            "T-statistic: 3.2857142857142883\n",
            "P-value: 0.00820926671751789\n",
            "Reject the null hypothesis\n"
          ]
        }
      ]
    },
    {
      "cell_type": "markdown",
      "source": [
        "7. Perform a paired sample T-test using Python and visualize the comparison results\n"
      ],
      "metadata": {
        "id": "NQKl48iMbbnP"
      }
    },
    {
      "cell_type": "code",
      "source": [
        "import numpy as np\n",
        "import scipy.stats as stats\n",
        "import matplotlib.pyplot as plt\n",
        "\n",
        "# Sample data (before and after test)\n",
        "before = np.array([50, 55, 53, 52, 51, 54])\n",
        "after = np.array([52, 58, 55, 54, 53, 57])\n",
        "\n",
        "# Perform paired T-test\n",
        "t_stat, p_value = stats.ttest_rel(before, after)\n",
        "\n",
        "print(f\"T-statistic: {t_stat}\")\n",
        "print(f\"P-value: {p_value}\")\n",
        "\n",
        "# Visualization\n",
        "plt.figure(figsize=(6,4))\n",
        "plt.plot(before, label=\"Before\", marker='o')\n",
        "plt.plot(after, label=\"After\", marker='s')\n",
        "plt.legend()\n",
        "plt.title(\"Paired Sample T-test Comparison\")\n",
        "plt.show()\n"
      ],
      "metadata": {
        "colab": {
          "base_uri": "https://localhost:8080/",
          "height": 426
        },
        "id": "y-4SCed5cQiO",
        "outputId": "94b69937-5236-4e3f-c84c-f3df28cfc802"
      },
      "execution_count": 7,
      "outputs": [
        {
          "output_type": "stream",
          "name": "stdout",
          "text": [
            "T-statistic: -11.067971810589329\n",
            "P-value: 0.00010488411833543021\n"
          ]
        },
        {
          "output_type": "display_data",
          "data": {
            "text/plain": [
              "<Figure size 600x400 with 1 Axes>"
            ],
            "image/png": "[encoded data removed]"
          },
          "metadata": {}
        }
      ]
    },
    {
      "cell_type": "markdown",
      "source": [
        "8. Simulate data and perform both Z-test and T-test, then compare the results"
      ],
      "metadata": {
        "id": "vOPMZi66exvs"
      }
    },
    {
      "cell_type": "code",
      "source": [
        "import numpy as np\n",
        "import scipy.stats as stats\n",
        "\n",
        "# Simulate random data\n",
        "np.random.seed(42)\n",
        "sample1 = np.random.normal(50, 5, 30)\n",
        "sample2 = np.random.normal(55, 5, 30)\n",
        "\n",
        "# Perform Z-test\n",
        "z_stat, p_ztest = stats.ttest_1samp(sample1, popmean=50)\n",
        "\n",
        "# Perform T-test\n",
        "t_stat, p_ttest = stats.ttest_ind(sample1, sample2)\n",
        "\n",
        "print(f\"Z-test P-value: {p_ztest}\")\n",
        "print(f\"T-test P-value: {p_ttest}\")\n"
      ],
      "metadata": {
        "colab": {
          "base_uri": "https://localhost:8080/"
        },
        "id": "Fu2dgI3BeywP",
        "outputId": "3f646ac2-67d2-4660-c68d-b2e74b9876ad"
      },
      "execution_count": 22,
      "outputs": [
        {
          "output_type": "stream",
          "name": "stdout",
          "text": [
            "Z-test P-value: 0.26156414618801277\n",
            "T-test P-value: 3.176506547470041e-05\n"
          ]
        }
      ]
    },
    {
      "cell_type": "markdown",
      "source": [
        "9. Perform a one-way ANOVA test using Python"
      ],
      "metadata": {
        "id": "yDHfIclwbbqk"
      }
    },
    {
      "cell_type": "code",
      "source": [
        "import scipy.stats as stats\n",
        "\n",
        "# Sample data for three groups\n",
        "group1 = [5, 6, 7, 8, 9]\n",
        "group2 = [6, 7, 8, 9, 10]\n",
        "group3 = [10, 11, 12, 13, 14]\n",
        "\n",
        "# Perform ANOVA test\n",
        "f_stat, p_value = stats.f_oneway(group1, group2, group3)\n",
        "\n",
        "print(f\"F-statistic: {f_stat}\")\n",
        "print(f\"P-value: {p_value}\")\n",
        "\n",
        "if p_value < 0.05:\n",
        "    print(\"Reject the null hypothesis (at least one group mean is different)\")\n",
        "else:\n",
        "    print(\"Fail to reject the null hypothesis (all means are similar)\")\n"
      ],
      "metadata": {
        "colab": {
          "base_uri": "https://localhost:8080/"
        },
        "id": "loQ-qbWJcVAV",
        "outputId": "34e2bdae-03dd-4014-9818-e8c967e1a27c"
      },
      "execution_count": 8,
      "outputs": [
        {
          "output_type": "stream",
          "name": "stdout",
          "text": [
            "F-statistic: 14.0\n",
            "P-value: 0.0007289999999999998\n",
            "Reject the null hypothesis (at least one group mean is different)\n"
          ]
        }
      ]
    },
    {
      "cell_type": "markdown",
      "source": [
        "10. Perform a Chi-square test for independence between two categorical variables in Python\n"
      ],
      "metadata": {
        "id": "WsAkrL2bbbwO"
      }
    },
    {
      "cell_type": "code",
      "source": [
        "import scipy.stats as stats\n",
        "import numpy as np\n",
        "\n",
        "# Observed frequencies\n",
        "observed = np.array([[30, 10], [15, 45]])\n",
        "\n",
        "# Perform Chi-square test\n",
        "chi2, p, dof, expected = stats.chi2_contingency(observed)\n",
        "\n",
        "print(f\"Chi-square statistic: {chi2}\")\n",
        "print(f\"P-value: {p}\")\n",
        "\n",
        "if p < 0.05:\n",
        "    print(\"Reject the null hypothesis (variables are dependent)\")\n",
        "else:\n",
        "    print(\"Fail to reject the null hypothesis (variables are independent)\")\n"
      ],
      "metadata": {
        "colab": {
          "base_uri": "https://localhost:8080/"
        },
        "id": "pJpxbC5ocaXO",
        "outputId": "153d6743-e8c9-4e96-819a-1f2dec560ab8"
      },
      "execution_count": 9,
      "outputs": [
        {
          "output_type": "stream",
          "name": "stdout",
          "text": [
            "Chi-square statistic: 22.264309764309765\n",
            "P-value: 2.375816149275661e-06\n",
            "Reject the null hypothesis (variables are dependent)\n"
          ]
        }
      ]
    },
    {
      "cell_type": "markdown",
      "source": [
        "11. Write a Python program to calculate the margin of error for a given confidence level using sample data"
      ],
      "metadata": {
        "id": "n01g1iaBbbzc"
      }
    },
    {
      "cell_type": "code",
      "source": [
        "import scipy.stats as stats\n",
        "import numpy as np\n",
        "\n",
        "# Sample data\n",
        "sample_data = [50, 52, 53, 48, 51, 50, 49, 54, 53, 52]\n",
        "confidence_level = 0.95\n",
        "\n",
        "# Calculate mean and standard deviation\n",
        "sample_mean = np.mean(sample_data)\n",
        "std_error = np.std(sample_data, ddof=1) / np.sqrt(len(sample_data))\n",
        "\n",
        "# Get Z-score for confidence level\n",
        "z_value = stats.norm.ppf((1 + confidence_level) / 2)\n",
        "\n",
        "# Calculate margin of error\n",
        "margin_of_error = z_value * std_error\n",
        "\n",
        "print(f\"Margin of Error: {margin_of_error}\")\n"
      ],
      "metadata": {
        "colab": {
          "base_uri": "https://localhost:8080/"
        },
        "id": "Qm4QfBdtdZ0v",
        "outputId": "c938b18b-bab6-434c-87c0-1794c0853a87"
      },
      "execution_count": 10,
      "outputs": [
        {
          "output_type": "stream",
          "name": "stdout",
          "text": [
            "Margin of Error: 1.197557775805607\n"
          ]
        }
      ]
    },
    {
      "cell_type": "markdown",
      "source": [
        "11. Implement a Bayesian inference method using Bayes' Theorem in Python"
      ],
      "metadata": {
        "id": "o5a73ZtTbb5W"
      }
    },
    {
      "cell_type": "code",
      "source": [
        "def bayes_theorem(prior_A, likelihood_B_given_A, prior_B):\n",
        "    posterior_A_given_B = (likelihood_B_given_A * prior_A) / prior_B\n",
        "    return posterior_A_given_B\n",
        "\n",
        "# Example values\n",
        "prior_A = 0.02  # Probability of having a disease\n",
        "likelihood_B_given_A = 0.95  # Probability of testing positive given disease\n",
        "prior_B = 0.05  # Probability of testing positive overall\n",
        "\n",
        "posterior = bayes_theorem(prior_A, likelihood_B_given_A, prior_B)\n",
        "print(f\"Posterior Probability (P(A|B)): {posterior}\")\n"
      ],
      "metadata": {
        "colab": {
          "base_uri": "https://localhost:8080/"
        },
        "id": "1FyuIINedfQp",
        "outputId": "52ea8883-059c-4631-cd44-b130f930ad25"
      },
      "execution_count": 11,
      "outputs": [
        {
          "output_type": "stream",
          "name": "stdout",
          "text": [
            "Posterior Probability (P(A|B)): 0.37999999999999995\n"
          ]
        }
      ]
    },
    {
      "cell_type": "markdown",
      "source": [
        "12. Perform a Chi-square test for independence between two categorical variables in Python"
      ],
      "metadata": {
        "id": "9BmWG_j3bb8l"
      }
    },
    {
      "cell_type": "code",
      "source": [
        "import scipy.stats as stats\n",
        "import numpy as np\n",
        "\n",
        "# Observed frequencies\n",
        "observed = np.array([[30, 10], [15, 45]])\n",
        "\n",
        "# Perform Chi-square test\n",
        "chi2, p, dof, expected = stats.chi2_contingency(observed)\n",
        "\n",
        "print(f\"Chi-square statistic: {chi2}\")\n",
        "print(f\"P-value: {p}\")\n",
        "\n",
        "if p < 0.05:\n",
        "    print(\"Reject the null hypothesis (variables are dependent)\")\n",
        "else:\n",
        "    print(\"Fail to reject the null hypothesis (variables are independent)\")\n"
      ],
      "metadata": {
        "colab": {
          "base_uri": "https://localhost:8080/"
        },
        "id": "hVvvmm17di4d",
        "outputId": "c0fe7519-68cc-4e17-d167-8f7fb09847ba"
      },
      "execution_count": 12,
      "outputs": [
        {
          "output_type": "stream",
          "name": "stdout",
          "text": [
            "Chi-square statistic: 22.264309764309765\n",
            "P-value: 2.375816149275661e-06\n",
            "Reject the null hypothesis (variables are dependent)\n"
          ]
        }
      ]
    },
    {
      "cell_type": "markdown",
      "source": [
        "13. Write a Python program to calculate the expected frequencies for a Chi-square test"
      ],
      "metadata": {
        "id": "nY8E4V0tbcC9"
      }
    },
    {
      "cell_type": "code",
      "source": [
        "import scipy.stats as stats\n",
        "import numpy as np\n",
        "\n",
        "# Observed data\n",
        "observed = np.array([[30, 10], [15, 45]])\n",
        "\n",
        "# Perform Chi-square test\n",
        "chi2, p, dof, expected = stats.chi2_contingency(observed)\n",
        "\n",
        "print(\"Expected Frequencies:\")\n",
        "print(expected)\n"
      ],
      "metadata": {
        "colab": {
          "base_uri": "https://localhost:8080/"
        },
        "id": "IaLN2hM3dmYw",
        "outputId": "562d2e1a-b76e-4ae2-ee42-6b28af931f05"
      },
      "execution_count": 13,
      "outputs": [
        {
          "output_type": "stream",
          "name": "stdout",
          "text": [
            "Expected Frequencies:\n",
            "[[18. 22.]\n",
            " [27. 33.]]\n"
          ]
        }
      ]
    },
    {
      "cell_type": "markdown",
      "source": [
        "15. Create a Python script to simulate and visualize the Chi-square distribution"
      ],
      "metadata": {
        "id": "KV4IgfsrbcM9"
      }
    },
    {
      "cell_type": "code",
      "source": [
        "import numpy as np\n",
        "import scipy.stats as stats\n",
        "import matplotlib.pyplot as plt\n",
        "\n",
        "# Generate Chi-square distribution with df=5\n",
        "x = np.linspace(0, 20, 1000)\n",
        "pdf = stats.chi2.pdf(x, df=5)\n",
        "\n",
        "plt.figure(figsize=(8, 5))\n",
        "plt.plot(x, pdf, label=\"Chi-square Distribution (df=5)\")\n",
        "plt.title(\"Chi-square Distribution\")\n",
        "plt.xlabel(\"Value\")\n",
        "plt.ylabel(\"Density\")\n",
        "plt.legend()\n",
        "plt.show()\n"
      ],
      "metadata": {
        "colab": {
          "base_uri": "https://localhost:8080/",
          "height": 487
        },
        "id": "YAxWXyGKdvKz",
        "outputId": "3f5822d2-11ed-4786-da07-70032f05f26d"
      },
      "execution_count": 15,
      "outputs": [
        {
          "output_type": "display_data",
          "data": {
            "text/plain": [
              "<Figure size 800x500 with 1 Axes>"
            ],
            "image/png": "[encoded data removed]"
          },
          "metadata": {}
        }
      ]
    },
    {
      "cell_type": "markdown",
      "source": [
        "16. Implement an F-test to compare variances of two random samples"
      ],
      "metadata": {
        "id": "TxD-82e9bcQd"
      }
    },
    {
      "cell_type": "code",
      "source": [
        "import numpy as np\n",
        "\n",
        "# Sample data\n",
        "data1 = [12, 15, 14, 10, 8, 16, 14]\n",
        "data2 = [9, 8, 10, 9, 6, 8, 7]\n",
        "\n",
        "# Calculate variance\n",
        "var1 = np.var(data1, ddof=1)\n",
        "var2 = np.var(data2, ddof=1)\n",
        "\n",
        "# Compute F-statistic\n",
        "f_stat = var1 / var2\n",
        "\n",
        "print(f\"F-statistic: {f_stat}\")\n"
      ],
      "metadata": {
        "colab": {
          "base_uri": "https://localhost:8080/"
        },
        "id": "SyBYWdFFdzki",
        "outputId": "f0a1b98c-b1b3-475c-dbc6-dc8c36585c1b"
      },
      "execution_count": 16,
      "outputs": [
        {
          "output_type": "stream",
          "name": "stdout",
          "text": [
            "F-statistic: 4.552631578947368\n"
          ]
        }
      ]
    },
    {
      "cell_type": "markdown",
      "source": [
        "17. Perform a one-way ANOVA test and visualize results with boxplots"
      ],
      "metadata": {
        "id": "qF3PNmqDbcWd"
      }
    },
    {
      "cell_type": "code",
      "source": [
        "import scipy.stats as stats\n",
        "import matplotlib.pyplot as plt\n",
        "\n",
        "# Sample data\n",
        "group1 = [5, 6, 7, 8, 9]\n",
        "group2 = [6, 7, 8, 9, 10]\n",
        "group3 = [10, 11, 12, 13, 14]\n",
        "\n",
        "# Perform ANOVA\n",
        "f_stat, p_value = stats.f_oneway(group1, group2, group3)\n",
        "\n",
        "print(f\"F-statistic: {f_stat}\")\n",
        "print(f\"P-value: {p_value}\")\n",
        "\n",
        "# Boxplot\n",
        "plt.boxplot([group1, group2, group3], labels=[\"Group 1\", \"Group 2\", \"Group 3\"])\n",
        "plt.title(\"One-way ANOVA - Boxplot\")\n",
        "plt.show()\n"
      ],
      "metadata": {
        "colab": {
          "base_uri": "https://localhost:8080/",
          "height": 541
        },
        "id": "rCH7mucfd3Vy",
        "outputId": "346ecfae-246d-49f3-e542-b0b34200f550"
      },
      "execution_count": 17,
      "outputs": [
        {
          "output_type": "stream",
          "name": "stdout",
          "text": [
            "F-statistic: 14.0\n",
            "P-value: 0.0007289999999999998\n"
          ]
        },
        {
          "output_type": "stream",
          "name": "stderr",
          "text": [
            "<ipython-input-17-412d815f0fa5>:16: MatplotlibDeprecationWarning: The 'labels' parameter of boxplot() has been renamed 'tick_labels' since Matplotlib 3.9; support for the old name will be dropped in 3.11.\n",
            "  plt.boxplot([group1, group2, group3], labels=[\"Group 1\", \"Group 2\", \"Group 3\"])\n"
          ]
        },
        {
          "output_type": "display_data",
          "data": {
            "text/plain": [
              "<Figure size 640x480 with 1 Axes>"
            ],
            "image/png": "[encoded data removed]"
          },
          "metadata": {}
        }
      ]
    },
    {
      "cell_type": "markdown",
      "source": [
        "18. Perform a hypothesis test for population variance using a Chi-square distribution"
      ],
      "metadata": {
        "id": "dBrq2lIcbcaQ"
      }
    },
    {
      "cell_type": "code",
      "source": [
        "import scipy.stats as stats\n",
        "\n",
        "# Given sample data\n",
        "sample_variance = 10\n",
        "n = 20  # Sample size\n",
        "pop_variance = 8  # Claimed population variance\n",
        "\n",
        "# Compute Chi-square statistic\n",
        "chi2_stat = (n - 1) * sample_variance / pop_variance\n",
        "\n",
        "# Compute P-value\n",
        "p_value = 1 - stats.chi2.cdf(chi2_stat, df=n-1)\n",
        "\n",
        "print(f\"Chi-square statistic: {chi2_stat}\")\n",
        "print(f\"P-value: {p_value}\")\n",
        "\n",
        "if p_value < 0.05:\n",
        "    print(\"Reject the null hypothesis\")\n",
        "else:\n",
        "    print(\"Fail to reject the null hypothesis\")\n"
      ],
      "metadata": {
        "colab": {
          "base_uri": "https://localhost:8080/"
        },
        "id": "hHklwI5Bd7gL",
        "outputId": "0b4d69eb-dc05-4315-8982-ccca0404bc83"
      },
      "execution_count": 18,
      "outputs": [
        {
          "output_type": "stream",
          "name": "stdout",
          "text": [
            "Chi-square statistic: 23.75\n",
            "P-value: 0.20591746364061414\n",
            "Fail to reject the null hypothesis\n"
          ]
        }
      ]
    },
    {
      "cell_type": "markdown",
      "source": [
        "19. Check ANOVA assumptions (normality, independence, equal variance)\n"
      ],
      "metadata": {
        "id": "em5aiLAxfBQ3"
      }
    },
    {
      "cell_type": "code",
      "source": [
        "import numpy as np\n",
        "import scipy.stats as stats\n",
        "\n",
        "def check_anova_assumptions(data_groups):\n",
        "    for i, data in enumerate(data_groups):\n",
        "        print(f\"Group {i+1}:\")\n",
        "\n",
        "        # Check normality (Shapiro-Wilk test)\n",
        "        stat, p_value = stats.shapiro(data)\n",
        "        print(f\"  Normality test p-value: {p_value}\")\n",
        "\n",
        "        if p_value < 0.05:\n",
        "            print(\"  Data is not normally distributed.\")\n",
        "\n",
        "    # Check variance equality (Levene's test)\n",
        "    stat, p_value = stats.levene(*data_groups)\n",
        "    print(f\"Levene's test for equal variance p-value: {p_value}\")\n",
        "\n",
        "    if p_value < 0.05:\n",
        "        print(\"Warning: Variance is not equal across groups.\")\n",
        "\n",
        "# Example dataset\n",
        "group1 = np.random.normal(50, 5, 30)\n",
        "group2 = np.random.normal(55, 5, 30)\n",
        "group3 = np.random.normal(60, 5, 30)\n",
        "\n",
        "check_anova_assumptions([group1, group2, group3])\n"
      ],
      "metadata": {
        "colab": {
          "base_uri": "https://localhost:8080/"
        },
        "id": "B4kJuODVfCvA",
        "outputId": "53a7b0e1-9a2e-4ac7-b1ea-524e2e694529"
      },
      "execution_count": 23,
      "outputs": [
        {
          "output_type": "stream",
          "name": "stdout",
          "text": [
            "Group 1:\n",
            "  Normality test p-value: 0.36537361581253236\n",
            "Group 2:\n",
            "  Normality test p-value: 0.156500121202941\n",
            "Group 3:\n",
            "  Normality test p-value: 0.24805578004400802\n",
            "Levene's test for equal variance p-value: 0.325750682069036\n"
          ]
        }
      ]
    },
    {
      "cell_type": "markdown",
      "source": [
        "20. Perform a two-way ANOVA test and visualize interaction\n"
      ],
      "metadata": {
        "id": "OLHGmcpxfG2h"
      }
    },
    {
      "cell_type": "code",
      "source": [
        "import pandas as pd\n",
        "import statsmodels.api as sm\n",
        "from statsmodels.formula.api import ols\n",
        "\n",
        "# Example dataset\n",
        "data = pd.DataFrame({\n",
        "    'Factor1': ['A', 'A', 'B', 'B', 'C', 'C'] * 5,\n",
        "    'Factor2': ['X', 'Y'] * 15,\n",
        "    'Values': np.random.randint(10, 50, 30)\n",
        "})\n",
        "\n",
        "# Two-way ANOVA\n",
        "model = ols('Values ~ C(Factor1) + C(Factor2) + C(Factor1):C(Factor2)', data=data).fit()\n",
        "anova_table = sm.stats.anova_lm(model, typ=2)\n",
        "print(anova_table)\n"
      ],
      "metadata": {
        "colab": {
          "base_uri": "https://localhost:8080/"
        },
        "id": "9t50e-13fIOB",
        "outputId": "34eb71b6-c316-4030-c07a-bc91c4575fe9"
      },
      "execution_count": 24,
      "outputs": [
        {
          "output_type": "stream",
          "name": "stdout",
          "text": [
            "                            sum_sq    df         F    PR(>F)\n",
            "C(Factor1)              573.066667   2.0  2.545831  0.099383\n",
            "C(Factor2)              172.800000   1.0  1.535318  0.227298\n",
            "C(Factor1):C(Factor2)   456.800000   2.0  2.029320  0.153368\n",
            "Residual               2701.200000  24.0       NaN       NaN\n"
          ]
        }
      ]
    },
    {
      "cell_type": "markdown",
      "source": [
        "21. Perform a Z-test for comparing proportions between two datasets\n",
        "\n"
      ],
      "metadata": {
        "id": "vz3VbxYMbcfX"
      }
    },
    {
      "cell_type": "code",
      "source": [
        "import statsmodels.api as sm\n",
        "\n",
        "# Sample data (successes, total observations)\n",
        "count = np.array([40, 50])  # Number of successes\n",
        "nobs = np.array([200, 250])  # Sample sizes\n",
        "\n",
        "# Perform two-sample proportion Z-test\n",
        "z_stat, p_value = sm.stats.proportions_ztest(count, nobs)\n",
        "\n",
        "print(f\"Z-statistic: {z_stat}\")\n",
        "print(f\"P-value: {p_value}\")\n",
        "\n",
        "if p_value < 0.05:\n",
        "    print(\"Reject the null hypothesis\")\n",
        "else:\n",
        "    print(\"Fail to reject the null hypothesis\")\n"
      ],
      "metadata": {
        "colab": {
          "base_uri": "https://localhost:8080/"
        },
        "id": "GNNd4bPJeAt8",
        "outputId": "5767c9d6-6dbd-4715-f202-5043c0654239"
      },
      "execution_count": 19,
      "outputs": [
        {
          "output_type": "stream",
          "name": "stdout",
          "text": [
            "Z-statistic: 0.0\n",
            "P-value: 1.0\n",
            "Fail to reject the null hypothesis\n"
          ]
        }
      ]
    },
    {
      "cell_type": "markdown",
      "source": [
        "22. Implement an F-test for comparing the variances of two datasets"
      ],
      "metadata": {
        "id": "jjCG6rXRbciq"
      }
    },
    {
      "cell_type": "code",
      "source": [
        "import numpy as np\n",
        "\n",
        "# Sample data\n",
        "data1 = [12, 15, 14, 10, 8, 16, 14]\n",
        "data2 = [9, 8, 10, 9, 6, 8, 7]\n",
        "\n",
        "# Compute variances\n",
        "var1 = np.var(data1, ddof=1)\n",
        "var2 = np.var(data2, ddof=1)\n",
        "\n",
        "# Compute F-statistic\n",
        "f_stat = var1 / var2\n",
        "\n",
        "print(f\"F-statistic: {f_stat}\")\n"
      ],
      "metadata": {
        "colab": {
          "base_uri": "https://localhost:8080/"
        },
        "id": "4lOZDy8UeGOg",
        "outputId": "ad6960ae-85ce-48ef-f038-5db6de7bab29"
      },
      "execution_count": 20,
      "outputs": [
        {
          "output_type": "stream",
          "name": "stdout",
          "text": [
            "F-statistic: 4.552631578947368\n"
          ]
        }
      ]
    },
    {
      "cell_type": "code",
      "source": [
        "import scipy.stats as stats\n",
        "import numpy as np\n",
        "\n",
        "# Observed frequencies\n",
        "observed = np.array([60, 40])\n",
        "expected = np.array([50, 50])\n",
        "\n",
        "# Perform Chi-square goodness-of-fit test\n",
        "chi2, p_value = stats.chisquare(observed, expected)\n",
        "\n",
        "print(f\"Chi-square statistic: {chi2}\")\n",
        "print(f\"P-value: {p_value}\")\n"
      ],
      "metadata": {
        "colab": {
          "base_uri": "https://localhost:8080/"
        },
        "id": "mx8SLEsBeKiO",
        "outputId": "85cdeb55-1fd5-433b-98ad-44ac4a41591f"
      },
      "execution_count": 21,
      "outputs": [
        {
          "output_type": "stream",
          "name": "stdout",
          "text": [
            "Chi-square statistic: 4.0\n",
            "P-value: 0.04550026389635857\n"
          ]
        }
      ]
    },
    {
      "cell_type": "markdown",
      "source": [
        "23. Simulate random data from a normal distribution and test means"
      ],
      "metadata": {
        "id": "P_eNoxNUbcsY"
      }
    },
    {
      "cell_type": "code",
      "source": [
        "import numpy as np\n",
        "import scipy.stats as stats\n",
        "\n",
        "# Generate data\n",
        "sample1 = np.random.normal(50, 5, 30)\n",
        "sample2 = np.random.normal(55, 5, 30)\n",
        "\n",
        "# Perform T-test\n",
        "t_stat, p_value = stats.ttest_ind(sample1, sample2)\n",
        "\n",
        "print(f\"T-statistic: {t_stat}, P-value: {p_value}\")\n"
      ],
      "metadata": {
        "colab": {
          "base_uri": "https://localhost:8080/"
        },
        "id": "NW7_40MefOZI",
        "outputId": "bbeacb1e-b278-4711-f20c-8ce6f7626549"
      },
      "execution_count": 25,
      "outputs": [
        {
          "output_type": "stream",
          "name": "stdout",
          "text": [
            "T-statistic: -2.3509549831553116, P-value: 0.02214573881482207\n"
          ]
        }
      ]
    },
    {
      "cell_type": "markdown",
      "source": [
        "27. Perform a Chi-square goodness-of-fit test with simulated data"
      ],
      "metadata": {
        "id": "_ujZpYUcbcxc"
      }
    },
    {
      "cell_type": "code",
      "source": [
        "import scipy.stats as stats\n",
        "import numpy as np\n",
        "\n",
        "# Observed frequencies\n",
        "observed = np.array([50, 30, 20])\n",
        "expected = np.array([40, 40, 20])\n",
        "\n",
        "# Perform Chi-square goodness-of-fit test\n",
        "chi2, p = stats.chisquare(observed, expected)\n",
        "\n",
        "print(f\"Chi-square statistic: {chi2}\")\n",
        "print(f\"P-value: {p}\")\n",
        "\n",
        "if p < 0.05:\n",
        "    print(\"Reject the null hypothesis (data does not fit the expected distribution)\")\n",
        "else:\n",
        "    print(\"Fail to reject the null hypothesis (data fits the expected distribution)\")\n"
      ],
      "metadata": {
        "colab": {
          "base_uri": "https://localhost:8080/"
        },
        "id": "OF2fRTI4fVFp",
        "outputId": "72394880-e748-4831-aee4-c044f292ec59"
      },
      "execution_count": 26,
      "outputs": [
        {
          "output_type": "stream",
          "name": "stdout",
          "text": [
            "Chi-square statistic: 5.0\n",
            "P-value: 0.0820849986238988\n",
            "Fail to reject the null hypothesis (data fits the expected distribution)\n"
          ]
        }
      ]
    }
  ]
}