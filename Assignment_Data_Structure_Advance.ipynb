{
  "nbformat": 4,
  "nbformat_minor": 0,
  "metadata": {
    "colab": {
      "provenance": []
    },
    "kernelspec": {
      "name": "python3",
      "display_name": "Python 3"
    },
    "language_info": {
      "name": "python"
    }
  },
  "cells": [
    {
      "cell_type": "markdown",
      "source": [
        "#Q.1 Write a code to reverse a string."
      ],
      "metadata": {
        "id": "-zohMrU_mrtN"
      }
    },
    {
      "cell_type": "markdown",
      "source": [
        "Approach 1:"
      ],
      "metadata": {
        "id": "OR6CqF12nDKR"
      }
    },
    {
      "cell_type": "code",
      "source": [
        "str1 = \"Shayan\"\n",
        "reverse_str1 = str1[::-1]\n",
        "print(reverse_str1)"
      ],
      "metadata": {
        "colab": {
          "base_uri": "https://localhost:8080/"
        },
        "id": "S_Sn23ofmzeQ",
        "outputId": "cda1763b-70e6-4190-a843-ad4455a6cfc3"
      },
      "execution_count": null,
      "outputs": [
        {
          "output_type": "stream",
          "name": "stdout",
          "text": [
            "nayahS\n"
          ]
        }
      ]
    },
    {
      "cell_type": "markdown",
      "source": [
        "Approach 2:"
      ],
      "metadata": {
        "id": "kiBOtNgWnGS6"
      }
    },
    {
      "cell_type": "code",
      "source": [
        "str2 = \"pwskills\"\n",
        "i = len(str2) - 1\n",
        "while i >= 0:\n",
        "  print(str2[i], end = \"\")\n",
        "  i = i - 1"
      ],
      "metadata": {
        "colab": {
          "base_uri": "https://localhost:8080/"
        },
        "id": "ElKaJ-zvnHuq",
        "outputId": "28697d5a-809a-4872-ac1a-42f4fc51dd54"
      },
      "execution_count": null,
      "outputs": [
        {
          "output_type": "stream",
          "name": "stdout",
          "text": [
            "sllikswp"
          ]
        }
      ]
    },
    {
      "cell_type": "markdown",
      "source": [
        "#Q.2 Write a code to count the number of vowels in a string."
      ],
      "metadata": {
        "id": "1ZlduWBan_Fy"
      }
    },
    {
      "cell_type": "markdown",
      "source": [
        "Approach 1:"
      ],
      "metadata": {
        "id": "6sdSWDaNp3_B"
      }
    },
    {
      "cell_type": "code",
      "source": [
        "str3 = \"pwskills\"\n",
        "\n",
        "count = 0\n",
        "for i in range(len(str3)):\n",
        "  if str3[i] == 'a' or str3[i] == 'e' or str3[i] == 'i' or str3[i] == 'o' or str3[i] == 'u':\n",
        "    count = count + 1\n",
        "\n",
        "print(f\"Total Number of Vowels present in a string is {count}\")"
      ],
      "metadata": {
        "colab": {
          "base_uri": "https://localhost:8080/"
        },
        "id": "gqUoJ7xRoD1K",
        "outputId": "3e188691-ce14-4440-e134-a25c37fe2415"
      },
      "execution_count": null,
      "outputs": [
        {
          "output_type": "stream",
          "name": "stdout",
          "text": [
            "Total Number of Vowels present in a string is 1\n"
          ]
        }
      ]
    },
    {
      "cell_type": "markdown",
      "source": [
        "Approach 2:\n"
      ],
      "metadata": {
        "id": "OqJhvQS_p6Pn"
      }
    },
    {
      "cell_type": "code",
      "source": [
        "vowels  = \"aeiouAEIOU\"\n",
        "str4 = \"pwskills\"\n",
        "count = 0\n",
        "\n",
        "for i in str4:\n",
        "  if i in vowels:\n",
        "    count = count + 1\n",
        "\n",
        "print(\"Total Number of Vowels in a given string is \", count)"
      ],
      "metadata": {
        "colab": {
          "base_uri": "https://localhost:8080/"
        },
        "id": "dB1hf8Vdp7ug",
        "outputId": "9d61ceb2-17a2-4c00-f291-07ee7dc0e1b8"
      },
      "execution_count": null,
      "outputs": [
        {
          "output_type": "stream",
          "name": "stdout",
          "text": [
            "Total Number of Vowels in a given string is  1\n"
          ]
        }
      ]
    },
    {
      "cell_type": "markdown",
      "source": [
        "#Q.3 Write a code to check if a given string is a palindrome or not."
      ],
      "metadata": {
        "id": "ryCBQPtDqnjG"
      }
    },
    {
      "cell_type": "markdown",
      "source": [
        "Approach 1:\n"
      ],
      "metadata": {
        "id": "OPZjPZJZqtb2"
      }
    },
    {
      "cell_type": "code",
      "source": [
        "string1 = \"Racecar\"\n",
        "string1 = string1.lower()\n",
        "\n",
        "is_Palindrome = True\n",
        "n = len(string1)\n",
        "for i in range(0, n//2):\n",
        "  if string1[i] != string1[n-i-1]:\n",
        "    is_Palindrome = False\n",
        "  else:\n",
        "    is_Palindrome = True\n",
        "\n",
        "if(is_Palindrome):\n",
        "  print(f\"{string1} is a palindrome string\")\n",
        "else:\n",
        "  print(f\"{string1} is not a palindrome string\")\n"
      ],
      "metadata": {
        "colab": {
          "base_uri": "https://localhost:8080/"
        },
        "id": "Syq2nOBeqr9X",
        "outputId": "1ebb8e5e-d206-4c04-d04c-b73f4e2adc82"
      },
      "execution_count": null,
      "outputs": [
        {
          "output_type": "stream",
          "name": "stdout",
          "text": [
            "racecar is a palindrome string\n"
          ]
        }
      ]
    },
    {
      "cell_type": "markdown",
      "source": [
        "Approach 2:"
      ],
      "metadata": {
        "id": "_KRq88VXr-nS"
      }
    },
    {
      "cell_type": "code",
      "source": [
        "string2 = \"A man, a plan, a canal, Panama\"\n",
        "string2 = string2.lower().replace(\", \", \"\").replace(\" \", \"\");\n",
        "\n",
        "if string2 == string2[::-1]:\n",
        "  print(f\"{string2} is a palindrome string\")\n",
        "else:\n",
        "  print(f\"{string2} is not a palindrome string\")"
      ],
      "metadata": {
        "colab": {
          "base_uri": "https://localhost:8080/"
        },
        "id": "lWeCEYcysAKp",
        "outputId": "26ffcd49-b14b-4e9b-b4e3-688aa2bc85d3"
      },
      "execution_count": null,
      "outputs": [
        {
          "output_type": "stream",
          "name": "stdout",
          "text": [
            "amanaplanacanalpanama is a palindrome string\n"
          ]
        }
      ]
    },
    {
      "cell_type": "markdown",
      "source": [
        "#Q.4 Write a code to check if two given strings are anagrams of each other."
      ],
      "metadata": {
        "id": "U5s--6oWuE37"
      }
    },
    {
      "cell_type": "code",
      "source": [
        "s1 = \"LISTEN\"\n",
        "s2 = \"SILENT\"\n",
        "\n",
        "s1 = s1.replace(\" \", \"\").lower()\n",
        "s2 = s2.replace(\" \", \"\").lower()\n",
        "\n",
        "isAnagram = False\n",
        "\n",
        "if sorted(s1) == sorted(s2):\n",
        "  isAnagram = True\n",
        "else:\n",
        "  isAnagram = False\n",
        "\n",
        "if(isAnagram):\n",
        "  print(\"Anagrams\")\n",
        "else:\n",
        "  print(\"Not Anagrams\")"
      ],
      "metadata": {
        "colab": {
          "base_uri": "https://localhost:8080/"
        },
        "id": "AYqcjShTuJwr",
        "outputId": "c1fa3807-7f85-4b16-c445-e28316dfc5fd"
      },
      "execution_count": null,
      "outputs": [
        {
          "output_type": "stream",
          "name": "stdout",
          "text": [
            "Anagrams\n"
          ]
        }
      ]
    },
    {
      "cell_type": "markdown",
      "source": [
        "#Q.5 Write a code to find all occurrences of a given substring within another string."
      ],
      "metadata": {
        "id": "bbVrf1Bfvbu1"
      }
    },
    {
      "cell_type": "code",
      "source": [
        "main_string = \"banana\"\n",
        "sub_string = \"na\"\n",
        "\n",
        "occurence = []\n",
        "index = main_string.find(sub_string)\n",
        "\n",
        "while index != -1:\n",
        "  occurence.append(index)\n",
        "  index = main_string.find(sub_string, index + 1)\n",
        "\n",
        "print(\"The Occurences of a given substring within a string is \", occurence)"
      ],
      "metadata": {
        "colab": {
          "base_uri": "https://localhost:8080/"
        },
        "id": "uepyaUsCviHu",
        "outputId": "6f7d5c63-47e5-488b-9816-c08c2b12f8af"
      },
      "execution_count": null,
      "outputs": [
        {
          "output_type": "stream",
          "name": "stdout",
          "text": [
            "The Occurences of a given substring within a string is  [2, 4]\n"
          ]
        }
      ]
    },
    {
      "cell_type": "markdown",
      "source": [
        "#Q.6 Write a code to perform basic string compression using the counts of repeated characters."
      ],
      "metadata": {
        "id": "RmG4vZ1d0Ma7"
      }
    },
    {
      "cell_type": "code",
      "source": [
        "def compressed_string(s):\n",
        "  result = []\n",
        "  i = 0\n",
        "  while i < len(s):\n",
        "    count = 1\n",
        "    while i < len(s) - 1 and s[i] == s[i+1]:\n",
        "      count += 1\n",
        "      i += 1\n",
        "    result.append(s[i])\n",
        "    if count > 1:\n",
        "      result.append(str(count))\n",
        "    i += 1\n",
        "  return ''.join(result)\n",
        "\n",
        "input_string = \"aaabbccccdd\"\n",
        "compressed_string(input_string)"
      ],
      "metadata": {
        "colab": {
          "base_uri": "https://localhost:8080/",
          "height": 36
        },
        "id": "7ZM7avmjbR_n",
        "outputId": "bddf3acc-3835-4f79-ddae-5233d121d38e"
      },
      "execution_count": null,
      "outputs": [
        {
          "output_type": "execute_result",
          "data": {
            "text/plain": [
              "'a3b2c4d2'"
            ],
            "application/vnd.google.colaboratory.intrinsic+json": {
              "type": "string"
            }
          },
          "metadata": {},
          "execution_count": 19
        }
      ]
    },
    {
      "cell_type": "markdown",
      "source": [
        "#Q.7 Write a code to determine if a string has all unique characters."
      ],
      "metadata": {
        "id": "n94qHy-L0UtB"
      }
    },
    {
      "cell_type": "code",
      "source": [
        "def unique_characters(s):\n",
        "  isUnique = True\n",
        "  for i in range(len(s)):\n",
        "    for j in range(i+1, len(s)):\n",
        "      if s[i] == s[j]:\n",
        "        isUnique = False\n",
        "        break\n",
        "  return isUnique\n",
        "\n",
        "sample_string = \"pwskills\"\n",
        "if unique_characters(sample_string):\n",
        "  print(\"String has all unique characters\")\n",
        "else:\n",
        "  print(\"String does not have all unique characters\")"
      ],
      "metadata": {
        "colab": {
          "base_uri": "https://localhost:8080/"
        },
        "id": "hvwCtWiGfDsx",
        "outputId": "095e097b-f09f-4eb1-e7ca-5a194f6b9c5f"
      },
      "execution_count": null,
      "outputs": [
        {
          "output_type": "stream",
          "name": "stdout",
          "text": [
            "String does not have all unique characters\n"
          ]
        }
      ]
    },
    {
      "cell_type": "markdown",
      "source": [
        "#Q.8 Write a code to convert a given string to uppercase or lowercase."
      ],
      "metadata": {
        "id": "893hG_ZyxA4K"
      }
    },
    {
      "cell_type": "code",
      "source": [
        "given_string = \"Hello World\"\n",
        "\n",
        "upper_case = given_string.upper()\n",
        "lower_case = given_string.lower()\n",
        "\n",
        "print(\"UpperCase of given string is = \", upper_case)\n",
        "print(\"LowerCase of a given string is = \", lower_case)"
      ],
      "metadata": {
        "colab": {
          "base_uri": "https://localhost:8080/"
        },
        "id": "o0fU80zTxDnC",
        "outputId": "41ac8ff1-8b74-4893-cb5a-6c9bef469f9a"
      },
      "execution_count": null,
      "outputs": [
        {
          "output_type": "stream",
          "name": "stdout",
          "text": [
            "UpperCase of given string is =  HELLO WORLD\n",
            "LowerCase of a given string is =  hello world\n"
          ]
        }
      ]
    },
    {
      "cell_type": "markdown",
      "source": [
        "#Q.9 Write a code to count the number of words in a string."
      ],
      "metadata": {
        "id": "t_M7PmkBx20J"
      }
    },
    {
      "cell_type": "code",
      "source": [
        "input_string = \"Hello, how are you doing today?\"\n",
        "\n",
        "words = input_string.split()\n",
        "print(len(words))\n"
      ],
      "metadata": {
        "colab": {
          "base_uri": "https://localhost:8080/"
        },
        "id": "TPoXZM-px7lZ",
        "outputId": "518834ce-6527-49fc-9b0d-8c79f6480101"
      },
      "execution_count": null,
      "outputs": [
        {
          "output_type": "stream",
          "name": "stdout",
          "text": [
            "6\n"
          ]
        }
      ]
    },
    {
      "cell_type": "markdown",
      "source": [
        "#Q.10 Write a code to concatenate two strings without using the + operator."
      ],
      "metadata": {
        "id": "LdLmU1_10do6"
      }
    },
    {
      "cell_type": "code",
      "source": [
        "s1 = \"Hello\"\n",
        "s2 = \"World\"\n",
        "\n",
        "concatenated_string = \" \".join([s1, s2])\n",
        "print(concatenated_string)"
      ],
      "metadata": {
        "id": "Ntan3enKCV2r",
        "colab": {
          "base_uri": "https://localhost:8080/"
        },
        "outputId": "ee5cbf36-30cd-4cd9-cfe9-4f2412d8245e"
      },
      "execution_count": 1,
      "outputs": [
        {
          "output_type": "stream",
          "name": "stdout",
          "text": [
            "Hello World\n"
          ]
        }
      ]
    },
    {
      "cell_type": "markdown",
      "source": [
        "#Q.11 Write a code to remove all occurrences of a specific element from a list."
      ],
      "metadata": {
        "id": "j5cTvNJo0juL"
      }
    },
    {
      "cell_type": "markdown",
      "source": [
        "Approach 1"
      ],
      "metadata": {
        "id": "LRwhXWgGoxTV"
      }
    },
    {
      "cell_type": "code",
      "source": [
        "lis = [2, 2, 1, 4, 5, 6, 7]\n",
        "element = 2\n",
        "lis.remove(element)\n",
        "\n",
        "for i in lis:\n",
        "  if i == element:\n",
        "    lis.remove(i)\n",
        "\n",
        "print(lis)"
      ],
      "metadata": {
        "colab": {
          "base_uri": "https://localhost:8080/"
        },
        "id": "HAV9Aj7Fn6iO",
        "outputId": "845a6874-9dc3-4f3d-8396-348f57dcb99f"
      },
      "execution_count": null,
      "outputs": [
        {
          "output_type": "stream",
          "name": "stdout",
          "text": [
            "[1, 4, 5, 6, 7]\n"
          ]
        }
      ]
    },
    {
      "cell_type": "code",
      "source": [
        "lis = [1, 2, 3, 1, 1, 2, 5, 6]\n",
        "element = 1\n",
        "\n",
        "while element in lis:\n",
        "    lis.remove(element)\n",
        "\n",
        "print(lis)"
      ],
      "metadata": {
        "colab": {
          "base_uri": "https://localhost:8080/"
        },
        "id": "W2yGoIrskqvg",
        "outputId": "c7777f87-fa04-439a-de97-1b3ef8576a90"
      },
      "execution_count": null,
      "outputs": [
        {
          "output_type": "stream",
          "name": "stdout",
          "text": [
            "[2, 3, 2, 5, 6]\n"
          ]
        }
      ]
    },
    {
      "cell_type": "markdown",
      "source": [
        "Approach 2"
      ],
      "metadata": {
        "id": "oHquW-EQozV8"
      }
    },
    {
      "cell_type": "code",
      "source": [
        "lis = [1, 2, 3, 1, 1, 2, 5, 6]\n",
        "element = 1\n",
        "\n",
        "ans = [x for x in lis if x != element]\n",
        "print(ans)"
      ],
      "metadata": {
        "colab": {
          "base_uri": "https://localhost:8080/"
        },
        "id": "o5yVNkAXo1I0",
        "outputId": "ebe8fb15-9149-40b1-beb5-d1d8d564a12d"
      },
      "execution_count": null,
      "outputs": [
        {
          "output_type": "stream",
          "name": "stdout",
          "text": [
            "[2, 3, 2, 5, 6]\n"
          ]
        }
      ]
    },
    {
      "cell_type": "markdown",
      "source": [
        "Approach 3"
      ],
      "metadata": {
        "id": "6X75exRapWP5"
      }
    },
    {
      "cell_type": "code",
      "source": [
        "lis = [1, 2, 3, 1, 1, 2, 5, 6]\n",
        "element = 1\n",
        "\n",
        "\n",
        "ans = list(filter(lambda x : x != element, lis))\n",
        "print(ans)"
      ],
      "metadata": {
        "colab": {
          "base_uri": "https://localhost:8080/"
        },
        "id": "ypdHulAwpYDl",
        "outputId": "5d83bbd4-970d-4d66-8b73-4febb93a4525"
      },
      "execution_count": null,
      "outputs": [
        {
          "output_type": "stream",
          "name": "stdout",
          "text": [
            "[2, 3, 2, 5, 6]\n"
          ]
        }
      ]
    },
    {
      "cell_type": "markdown",
      "source": [
        "#Q.12 Implement a code to find the second largest number in a given list of integers."
      ],
      "metadata": {
        "id": "OQOMhelq0uht"
      }
    },
    {
      "cell_type": "markdown",
      "source": [
        "Approach 1"
      ],
      "metadata": {
        "id": "GeAujRN5_Xn8"
      }
    },
    {
      "cell_type": "code",
      "source": [
        "l = [5, 6, 3, 2, 10, 7, 9]\n",
        "l.sort()\n",
        "print(l[-2])"
      ],
      "metadata": {
        "colab": {
          "base_uri": "https://localhost:8080/"
        },
        "id": "L0b2jdfq_Kn6",
        "outputId": "8c8c355e-3c1d-4718-cd0c-86fe7d28d6aa"
      },
      "execution_count": null,
      "outputs": [
        {
          "output_type": "stream",
          "name": "stdout",
          "text": [
            "9\n"
          ]
        }
      ]
    },
    {
      "cell_type": "markdown",
      "source": [
        "Approach 2"
      ],
      "metadata": {
        "id": "YOLbVTRg_aHB"
      }
    },
    {
      "cell_type": "code",
      "source": [
        "l = [5, 6, 3, 2, 10, 7, 9]\n",
        "first_largest = float('-inf')\n",
        "second_largest = float('-inf')\n",
        "for i in l:\n",
        "  if i > first_largest:\n",
        "    second_largest = first_largest\n",
        "    first_largest = i\n",
        "  elif i > second_largest and i != first_largest:\n",
        "    second_largest = i\n",
        "\n",
        "print(second_largest)"
      ],
      "metadata": {
        "colab": {
          "base_uri": "https://localhost:8080/"
        },
        "id": "TH5rkK7k_WuT",
        "outputId": "3f52d9f3-5295-4424-85c9-a97601c55edf"
      },
      "execution_count": null,
      "outputs": [
        {
          "output_type": "stream",
          "name": "stdout",
          "text": [
            "9\n"
          ]
        }
      ]
    },
    {
      "cell_type": "markdown",
      "source": [
        "#Q.13 Create a code to count the occurrences of each element in a list and return a dictionary with elements as keys and their counts as values."
      ],
      "metadata": {
        "id": "i_Ni8igF0u4M"
      }
    },
    {
      "cell_type": "code",
      "source": [
        "def count_occurrences(lis):\n",
        "  count_dict = {}\n",
        "  for i in lis:\n",
        "    if i in count_dict:\n",
        "      count_dict[i] += 1\n",
        "    else:\n",
        "      count_dict[i] = 1\n",
        "  return count_dict\n",
        "\n",
        "sample_list = [\"apple\", \"banana\", \"apple\", \"orange\", \"banana\", \"apple\"]\n",
        "result = count_occurrences(sample_list)\n",
        "print(result)"
      ],
      "metadata": {
        "id": "42V3cq7XppOp",
        "colab": {
          "base_uri": "https://localhost:8080/"
        },
        "outputId": "976847f7-f6ee-4251-d12e-bb6edae0520d"
      },
      "execution_count": null,
      "outputs": [
        {
          "output_type": "stream",
          "name": "stdout",
          "text": [
            "{'apple': 3, 'banana': 2, 'orange': 1}\n"
          ]
        }
      ]
    },
    {
      "cell_type": "markdown",
      "source": [
        "#Q.14 Write a code to reverse a list in-place without using any built-in reverse functions."
      ],
      "metadata": {
        "id": "3EPd-gIP0vKM"
      }
    },
    {
      "cell_type": "code",
      "source": [
        "lis = [1, 2, 3, 4, 5]\n",
        "i = 0\n",
        "j = len(lis) - 1\n",
        "while i < j:\n",
        "  temp = lis[i]\n",
        "  lis[i] = lis[j]\n",
        "  lis[j] = temp\n",
        "\n",
        "  i = i + 1\n",
        "  j = j - 1\n",
        "\n",
        "print(lis)"
      ],
      "metadata": {
        "colab": {
          "base_uri": "https://localhost:8080/"
        },
        "id": "yLYjgIzgAoWv",
        "outputId": "ed65581e-4c2d-4c95-b94c-7190aece84fc"
      },
      "execution_count": null,
      "outputs": [
        {
          "output_type": "stream",
          "name": "stdout",
          "text": [
            "[5, 4, 3, 2, 1]\n"
          ]
        }
      ]
    },
    {
      "cell_type": "markdown",
      "source": [
        "#Q.15 Implement a code to find and remove duplicates from a list while preserving the original order of elements."
      ],
      "metadata": {
        "id": "6Mb8nlLt0vSE"
      }
    },
    {
      "cell_type": "markdown",
      "source": [
        "Approach 1"
      ],
      "metadata": {
        "id": "rfPrIBb0G5xg"
      }
    },
    {
      "cell_type": "code",
      "source": [
        "lis = [1, 1, 1, 2, 2, 3, 4, 4, 5, 5]\n",
        "unique_list = []\n",
        "for i in lis:\n",
        "  if i not in unique_list:\n",
        "    unique_list.append(i)\n",
        "\n",
        "print(unique_list)"
      ],
      "metadata": {
        "colab": {
          "base_uri": "https://localhost:8080/"
        },
        "id": "qyTV_k9MBCqz",
        "outputId": "c0cecdf2-4074-4544-aaa7-bebe2b9f8793"
      },
      "execution_count": null,
      "outputs": [
        {
          "output_type": "stream",
          "name": "stdout",
          "text": [
            "[1, 2, 3, 4, 5]\n"
          ]
        }
      ]
    },
    {
      "cell_type": "markdown",
      "source": [
        "Approach 2"
      ],
      "metadata": {
        "id": "MnWAPJFMG8sS"
      }
    },
    {
      "cell_type": "code",
      "source": [
        "lis = [1, 1, 1, 2, 2, 3, 3, 4, 4, 4, 5, 5, 6]\n",
        "i = 0\n",
        "for j in range(1, len(lis)):\n",
        "  if lis[j] != lis[i]:\n",
        "    lis[i+1] =  lis[j]\n",
        "    i = i + 1\n",
        "\n",
        "\n",
        "lis = lis[:i+1]\n",
        "\n",
        "\n",
        "print(lis)"
      ],
      "metadata": {
        "colab": {
          "base_uri": "https://localhost:8080/"
        },
        "id": "IxLyhZ4hG_dJ",
        "outputId": "cf8164e0-7efd-44db-91dc-0ca05c9a6b0d"
      },
      "execution_count": null,
      "outputs": [
        {
          "output_type": "stream",
          "name": "stdout",
          "text": [
            "[1, 2, 3, 4, 5, 6]\n"
          ]
        }
      ]
    },
    {
      "cell_type": "markdown",
      "source": [
        "#Q.16 Create a code to check if a given list is sorted (either in ascending or descending order) or not."
      ],
      "metadata": {
        "id": "zZIXgRkR0v7k"
      }
    },
    {
      "cell_type": "code",
      "source": [
        "lis = [1, 2, 3, 4, 5]\n",
        "\n",
        "isSorted = True\n",
        "\n",
        "for i in range(1, len(lis)):\n",
        "  if lis[i] < lis[i-1]:\n",
        "    isSorted = False\n",
        "    break\n",
        "\n",
        "if isSorted:\n",
        "  print(\"Given list is sorted\")\n",
        "else:\n",
        "  print(\"Given list is not sorted\")"
      ],
      "metadata": {
        "colab": {
          "base_uri": "https://localhost:8080/"
        },
        "id": "CJmUfMGPJKiD",
        "outputId": "2fd74905-1f08-438a-8dac-1943b1db95f2"
      },
      "execution_count": null,
      "outputs": [
        {
          "output_type": "stream",
          "name": "stdout",
          "text": [
            "Given list is sorted\n"
          ]
        }
      ]
    },
    {
      "cell_type": "markdown",
      "source": [
        "#Q.17 Write a code to merge two sorted lists into a single sorted list."
      ],
      "metadata": {
        "id": "DeYLr6bS0wD8"
      }
    },
    {
      "cell_type": "markdown",
      "source": [
        "Approach 1"
      ],
      "metadata": {
        "id": "NhPVIE_fLCa-"
      }
    },
    {
      "cell_type": "code",
      "source": [
        "list1 = [1, 2, 3, 4, 5]\n",
        "list2 = [6, 7, 8, 9, 10]\n",
        "merged_list =[]\n",
        "i = 0\n",
        "j = 0\n",
        "n = len(list1)\n",
        "m = len(list2)\n",
        "\n",
        "while i < n and j < m:\n",
        "  if list1[i] <= list2[j]:\n",
        "    merged_list.append(list1[i])\n",
        "    i = i + 1\n",
        "  else:\n",
        "    merged_list.append(list2[j])\n",
        "    j = j + 1\n",
        "\n",
        "while i < n:\n",
        "  merged_list.append(list1[i])\n",
        "  i = i + 1\n",
        "\n",
        "while j < m:\n",
        "  merged_list.append(list2[j])\n",
        "  j = j + 1\n",
        "\n",
        "\n",
        "print(merged_list)"
      ],
      "metadata": {
        "colab": {
          "base_uri": "https://localhost:8080/"
        },
        "id": "z1NAUGLcKLub",
        "outputId": "84c9a25d-8f2d-492b-c042-83833716662a"
      },
      "execution_count": null,
      "outputs": [
        {
          "output_type": "stream",
          "name": "stdout",
          "text": [
            "[1, 2, 3, 4, 5, 6, 7, 8, 9, 10]\n"
          ]
        }
      ]
    },
    {
      "cell_type": "markdown",
      "source": [
        "Approach 2"
      ],
      "metadata": {
        "id": "VlsKCFn6LFMm"
      }
    },
    {
      "cell_type": "code",
      "source": [
        "list1 = [1, 2, 3, 4, 5]\n",
        "list2 = [6, 7, 8, 9, 10]\n",
        "\n",
        "merged_list = list1 + list2\n",
        "merged_list.sort()\n",
        "print(merged_list)"
      ],
      "metadata": {
        "colab": {
          "base_uri": "https://localhost:8080/"
        },
        "id": "qp8uPcEbLHr2",
        "outputId": "b72523f9-31cc-4df0-9992-83f7e3c697a4"
      },
      "execution_count": null,
      "outputs": [
        {
          "output_type": "stream",
          "name": "stdout",
          "text": [
            "[1, 2, 3, 4, 5, 6, 7, 8, 9, 10]\n"
          ]
        }
      ]
    },
    {
      "cell_type": "markdown",
      "source": [
        "#Q.18 Implement a code to find the intersection of two given lists."
      ],
      "metadata": {
        "id": "aVRBOslr0wLE"
      }
    },
    {
      "cell_type": "markdown",
      "source": [
        "Approach 1"
      ],
      "metadata": {
        "id": "YDlCKawgL-_V"
      }
    },
    {
      "cell_type": "code",
      "source": [
        "list1 = [1, 4, 5, 6, 7]\n",
        "list2 = [6, 7, 9, 2, 1]\n",
        "intersected_list = []\n",
        "\n",
        "for i in list1:\n",
        "  if i in list2:\n",
        "    intersected_list.append(i)\n",
        "\n",
        "print(intersected_list)"
      ],
      "metadata": {
        "colab": {
          "base_uri": "https://localhost:8080/"
        },
        "id": "Q5JilZ0-LUza",
        "outputId": "e7e4e296-82b6-4380-baf6-89257650fd2a"
      },
      "execution_count": null,
      "outputs": [
        {
          "output_type": "stream",
          "name": "stdout",
          "text": [
            "[1, 6, 7]\n"
          ]
        }
      ]
    },
    {
      "cell_type": "markdown",
      "source": [
        "Approach 2"
      ],
      "metadata": {
        "id": "2yQYRJcTMA1J"
      }
    },
    {
      "cell_type": "code",
      "source": [
        "list1 = [1, 4, 5, 6, 7]\n",
        "list2 = [6, 7, 9, 2, 1]\n",
        "\n",
        "\n",
        "list1.sort()\n",
        "list2.sort()\n",
        "\n",
        "ans = []\n",
        "i = 0\n",
        "j = 0\n",
        "n = len(list1)\n",
        "m = len(list2)\n",
        "\n",
        "\n",
        "while i < n and j < m:\n",
        "  if list1[i] < list2[j]:\n",
        "    i = i + 1\n",
        "  elif list2[j] < list1[i]:\n",
        "    j = j + 1\n",
        "  else:\n",
        "    ans.append(list1[i])\n",
        "    i = i + 1\n",
        "    j = j + 1\n",
        "\n",
        "\n",
        "\n",
        "print(ans)"
      ],
      "metadata": {
        "colab": {
          "base_uri": "https://localhost:8080/"
        },
        "id": "VMcFz_CcMCvf",
        "outputId": "c219c97d-50b7-45e5-c2de-0eeb73b0cb20"
      },
      "execution_count": null,
      "outputs": [
        {
          "output_type": "stream",
          "name": "stdout",
          "text": [
            "[1, 6, 7]\n"
          ]
        }
      ]
    },
    {
      "cell_type": "markdown",
      "source": [
        "#Q.19 Create a code to find the union of two lists without duplicates.\n"
      ],
      "metadata": {
        "id": "R4Gx4wTc0wSm"
      }
    },
    {
      "cell_type": "markdown",
      "source": [
        "Approach 1"
      ],
      "metadata": {
        "id": "1lcUtl3sjkis"
      }
    },
    {
      "cell_type": "code",
      "source": [
        "list1 = [1, 2, 3, 4, 5, 6]\n",
        "list2 = [1, 2, 6, 7, 8, 9, 10]\n",
        "union_list = []\n",
        "\n",
        "for i in list1:\n",
        "  if i not in union_list:\n",
        "    union_list.append(i)\n",
        "\n",
        "for j in list2:\n",
        "  if j not in union_list:\n",
        "    union_list.append(j)\n",
        "\n",
        "print(union_list)"
      ],
      "metadata": {
        "colab": {
          "base_uri": "https://localhost:8080/"
        },
        "id": "pV8FhtXpjMUh",
        "outputId": "99054c49-b9a4-415c-c69c-64f0c2e1b1cf"
      },
      "execution_count": null,
      "outputs": [
        {
          "output_type": "stream",
          "name": "stdout",
          "text": [
            "[1, 2, 3, 4, 5, 6, 7, 8, 9, 10]\n"
          ]
        }
      ]
    },
    {
      "cell_type": "markdown",
      "source": [
        "Approach 2"
      ],
      "metadata": {
        "id": "pVqup2mSjm6p"
      }
    },
    {
      "cell_type": "code",
      "source": [
        "list1 = [1, 2, 3, 4, 5, 6]\n",
        "list2 = [1, 2, 6, 7, 8, 9, 10]\n",
        "union_list = []\n",
        "i = 0\n",
        "j = 0\n",
        "n = len(list1)\n",
        "m = len(list2)\n",
        "while i < n and j < m:\n",
        "  if list1[i] < list2[j]:\n",
        "    if len(union_list) == 0 or union_list[-1] != list1[i]:\n",
        "      union_list.append(list1[i])\n",
        "    i = i + 1\n",
        "  else:\n",
        "    if len(union_list) == 0 or union_list[-1] != list2[j]:\n",
        "      union_list.append(list2[j])\n",
        "    j = j + 1\n",
        "\n",
        "while i < n:\n",
        "  if len(union_list) == 0 or union_list[-1] != list1[i]:\n",
        "    union_list.append(list1[i])\n",
        "  i = i + 1\n",
        "\n",
        "while j < m:\n",
        "  if len(union_list) == 0 or union_list[-1] != list2[j]:\n",
        "    union_list.append(list2[j])\n",
        "  j = j + 1\n",
        "\n",
        "print(union_list)"
      ],
      "metadata": {
        "colab": {
          "base_uri": "https://localhost:8080/"
        },
        "id": "njf92mdVjnH0",
        "outputId": "834866c8-1444-49d5-98e4-37521e07ff87"
      },
      "execution_count": null,
      "outputs": [
        {
          "output_type": "stream",
          "name": "stdout",
          "text": [
            "[1, 2, 3, 4, 5, 6, 7, 8, 9, 10]\n"
          ]
        }
      ]
    },
    {
      "cell_type": "markdown",
      "source": [
        "#Q.20 Write a code to shuffle a given list randomly without using any built-in shuffle functions."
      ],
      "metadata": {
        "id": "IJWAkqbC0wXk"
      }
    },
    {
      "cell_type": "code",
      "source": [
        "import random\n",
        "\n",
        "def shuffle_list(lis):\n",
        "  shuffled = lis.copy()\n",
        "\n",
        "  for i in range(len(shuffled)-1, 0, -1):\n",
        "    j = random.randint(0, i)\n",
        "\n",
        "    shuffled[i], shuffled[j] = shuffled[j], shuffled[i]\n",
        "  return shuffled\n",
        "\n",
        "list1 = [1, 2, 3, 4, 5, 6]\n",
        "shuffled_list = shuffle_list(list1)\n",
        "print(shuffled_list)"
      ],
      "metadata": {
        "colab": {
          "base_uri": "https://localhost:8080/"
        },
        "id": "9zTsMsb3jjuT",
        "outputId": "2b4d1e94-cf28-4c40-f6d6-08c37eb6d9b7"
      },
      "execution_count": null,
      "outputs": [
        {
          "output_type": "stream",
          "name": "stdout",
          "text": [
            "[6, 5, 2, 4, 1, 3]\n"
          ]
        }
      ]
    },
    {
      "cell_type": "markdown",
      "source": [
        "#Q.21 Write a code that takes two tuples as input and returns a new tuple containing elements that are common to both input tuples."
      ],
      "metadata": {
        "id": "wTQNFG3I0weE"
      }
    },
    {
      "cell_type": "code",
      "source": [
        "def common_tuple(tuple_a, tuple_b):\n",
        "  set_a = set(tuple_a)\n",
        "  set_b = set(tuple_b)\n",
        "\n",
        "  result = set_a & set_b\n",
        "  return tuple(result)\n",
        "\n",
        "tuple_a = (1, 2, 3, 4, 5)\n",
        "tuple_b = (4, 5, 6, 7, 8)\n",
        "result = common_tuple(tuple_a, tuple_b)\n",
        "print(result)"
      ],
      "metadata": {
        "colab": {
          "base_uri": "https://localhost:8080/"
        },
        "id": "Z6gI7GtbmQ0D",
        "outputId": "60e7de40-bd12-486d-fd55-6f65e94ecbc5"
      },
      "execution_count": 9,
      "outputs": [
        {
          "output_type": "stream",
          "name": "stdout",
          "text": [
            "(4, 5)\n"
          ]
        }
      ]
    },
    {
      "cell_type": "markdown",
      "source": [
        "#Q.22  Create a code that prompts the user to enter two sets of integers separated by commas. Then, print the intersection of these two sets."
      ],
      "metadata": {
        "id": "ng3bnPHx0wjd"
      }
    },
    {
      "cell_type": "code",
      "source": [
        "first_number = input(\"Enter the first set of integers seperated by commas: \")\n",
        "list1 = [int(x) for x in first_number.split(\",\")]\n",
        "\n",
        "second_number = input(\"Enter the second set of integers seperated by commas: \")\n",
        "list2 = [int(x) for x in second_number.split(\",\")]\n",
        "\n",
        "common = []\n",
        "for num in list1:\n",
        "  if num in list2:\n",
        "    common.append(num)\n",
        "\n",
        "print(common)"
      ],
      "metadata": {
        "colab": {
          "base_uri": "https://localhost:8080/"
        },
        "id": "GHLdrvy5nYpL",
        "outputId": "71f3f9fc-bcdb-4afe-bd25-84238228c40d"
      },
      "execution_count": null,
      "outputs": [
        {
          "output_type": "stream",
          "name": "stdout",
          "text": [
            "Enter the first set of integers seperated by commas: 1,2,3,4\n",
            "Enter the second set of integers seperated by commas: 3,4,5,6\n",
            "[3, 4]\n"
          ]
        }
      ]
    },
    {
      "cell_type": "markdown",
      "source": [
        "#Q.23 Write a code to concatenate two tuples. The function should take two tuples as input and return a new tuple containing elements from both input tuples."
      ],
      "metadata": {
        "id": "6PxG2hZE0woN"
      }
    },
    {
      "cell_type": "code",
      "source": [
        "def func(tuple_1, tuple2):\n",
        "  new_tuple = tuple_1 + tuple2\n",
        "  return new_tuple\n",
        "\n",
        "tuple_1 = (1, 2, 3)\n",
        "tuple2 = (4, 5, 6)\n",
        "new_tuple = func(tuple_1, tuple2)\n",
        "print(new_tuple)"
      ],
      "metadata": {
        "id": "LW6kH7yczcfC",
        "colab": {
          "base_uri": "https://localhost:8080/"
        },
        "outputId": "d06141e0-6c60-4dc9-d02b-44e776ac7a03"
      },
      "execution_count": 10,
      "outputs": [
        {
          "output_type": "stream",
          "name": "stdout",
          "text": [
            "(1, 2, 3, 4, 5, 6)\n"
          ]
        }
      ]
    },
    {
      "cell_type": "markdown",
      "source": [
        "#Q.24 Develop a code that prompts the user to input two sets of strings. Then, print the elements that are present in the first set but not in the second set."
      ],
      "metadata": {
        "id": "uPCHqm8_0wuE"
      }
    },
    {
      "cell_type": "code",
      "source": [
        "s1 = input(\"Enter the first set of strings seperated by commas: \")\n",
        "list1 = s1.split(\",\")\n",
        "set1 = set(list1)\n",
        "\n",
        "s2 = input(\"Enter the second set of strings seperated by commas: \")\n",
        "list2 = s2.split(\",\")\n",
        "set2 = set(list2)\n",
        "\n",
        "result = set1 - set2\n",
        "print(result)"
      ],
      "metadata": {
        "colab": {
          "base_uri": "https://localhost:8080/"
        },
        "id": "8ZT6OG5iO-FJ",
        "outputId": "530bff3c-58a2-41b3-a4d2-3f4477293767"
      },
      "execution_count": 12,
      "outputs": [
        {
          "output_type": "stream",
          "name": "stdout",
          "text": [
            "Enter the first set of strings seperated by commas: s,h,a,y,a,n\n",
            "Enter the second set of strings seperated by commas: a,z,l,a,n\n",
            "{'y', 's', 'h'}\n"
          ]
        }
      ]
    },
    {
      "cell_type": "markdown",
      "source": [
        "#Q.25 Create a code that takes a tuple and two integers as input. The function should return a new tuple containing elements from the original tuple within the specified range of indices."
      ],
      "metadata": {
        "id": "5byliR3f0xs8"
      }
    },
    {
      "cell_type": "markdown",
      "source": [
        "Approach 1"
      ],
      "metadata": {
        "id": "hS_hI_IMREUs"
      }
    },
    {
      "cell_type": "code",
      "source": [
        "def func(tuple_1, start, end):\n",
        "  list_1 = []\n",
        "  for i in range(start, end+1):\n",
        "    list_1.append(tuple_1[i])\n",
        "  return tuple(list_1)\n",
        "\n",
        "func((1, 2, 3, 4, 5, 7, 11, 22), 2, 4)"
      ],
      "metadata": {
        "colab": {
          "base_uri": "https://localhost:8080/"
        },
        "id": "h_Xr8k0hP1YZ",
        "outputId": "11a4fd18-2201-4ad6-a0af-783d3ef82471"
      },
      "execution_count": 13,
      "outputs": [
        {
          "output_type": "execute_result",
          "data": {
            "text/plain": [
              "(3, 4, 5)"
            ]
          },
          "metadata": {},
          "execution_count": 13
        }
      ]
    },
    {
      "cell_type": "markdown",
      "source": [
        "Approach 2"
      ],
      "metadata": {
        "id": "kWHBzbUqRG5y"
      }
    },
    {
      "cell_type": "code",
      "source": [
        "def func(tuple_1, start, end):\n",
        "    return tuple_1[start:end+1]\n",
        "func((1, 2, 3, 4, 5, 7, 11, 22), 2, 4)"
      ],
      "metadata": {
        "colab": {
          "base_uri": "https://localhost:8080/"
        },
        "id": "einvGZc6RCrm",
        "outputId": "3d7588f8-2a1b-4f84-fc90-d25beb9d2ede"
      },
      "execution_count": 14,
      "outputs": [
        {
          "output_type": "execute_result",
          "data": {
            "text/plain": [
              "(3, 4, 5)"
            ]
          },
          "metadata": {},
          "execution_count": 14
        }
      ]
    },
    {
      "cell_type": "markdown",
      "source": [
        "#Q.26 Write a code that prompts the user to input two sets of characters. Then, print the union of these two sets."
      ],
      "metadata": {
        "id": "ieIoLjQw0xz9"
      }
    },
    {
      "cell_type": "code",
      "source": [
        "set_of_characters_1 = input(\"Enter the first set of characters: \")\n",
        "set_of_characters_2 = input(\"Enter the second set of characters: \")\n",
        "set1 = set(set_of_characters_1)\n",
        "set2 = set(set_of_characters_2)\n",
        "\n",
        "union = set1 | set2\n",
        "print(union)"
      ],
      "metadata": {
        "colab": {
          "base_uri": "https://localhost:8080/"
        },
        "id": "J2bc_A-CRSyV",
        "outputId": "ea890f7e-bee2-4376-c41b-8a7a4ee56a9d"
      },
      "execution_count": 17,
      "outputs": [
        {
          "output_type": "stream",
          "name": "stdout",
          "text": [
            "Enter the first set of characters: abc\n",
            "Enter the second set of characters: abd\n",
            "{'a', 'd', 'b', 'c'}\n"
          ]
        }
      ]
    },
    {
      "cell_type": "markdown",
      "source": [
        "#Q.27 Develop a code that takes a tuple of integers as input. The function should return the maximum and minimum values from the tuple using tuple unpacking."
      ],
      "metadata": {
        "id": "yy6RPDCH0x7V"
      }
    },
    {
      "cell_type": "code",
      "source": [
        "def func(tup):\n",
        "  maxi, mini = max(tup), min(tup)\n",
        "  return maxi, mini\n",
        "\n",
        "func((1, 2, 3, 4, 5))"
      ],
      "metadata": {
        "colab": {
          "base_uri": "https://localhost:8080/"
        },
        "id": "IacaANEnSEib",
        "outputId": "a508a1b0-ab62-4626-bf6c-c741f66bef0f"
      },
      "execution_count": 18,
      "outputs": [
        {
          "output_type": "execute_result",
          "data": {
            "text/plain": [
              "(5, 1)"
            ]
          },
          "metadata": {},
          "execution_count": 18
        }
      ]
    },
    {
      "cell_type": "markdown",
      "source": [
        "#Q.28 Create a code that defines two sets of integers. Then, print the union, intersection, and difference of these two sets."
      ],
      "metadata": {
        "id": "UW05KTgk0w0E"
      }
    },
    {
      "cell_type": "code",
      "source": [
        "set1 = {1, 2, 3, 4, 5}\n",
        "set2 = {4, 5, 6, 7, 8}\n",
        "\n",
        "union = set1 | set2\n",
        "intersection = set1 & set2\n",
        "difference = set1 - set2\n",
        "\n",
        "print(f\"Union of set 1 and set 2 is {union}\")\n",
        "print(f\"Intersection of set 1 and set 2 is {intersection}\")\n",
        "print(f\"Difference of set 1 and set 2 is {difference}\")"
      ],
      "metadata": {
        "colab": {
          "base_uri": "https://localhost:8080/"
        },
        "id": "MNUL4Au4SbU3",
        "outputId": "07b061c7-4c58-46a2-9d24-70001f5e8dd8"
      },
      "execution_count": 20,
      "outputs": [
        {
          "output_type": "stream",
          "name": "stdout",
          "text": [
            "Union of set 1 and set 2 is {1, 2, 3, 4, 5, 6, 7, 8}\n",
            "Intersection of set 1 and set 2 is {4, 5}\n",
            "Difference of set 1 and set 2 is {1, 2, 3}\n"
          ]
        }
      ]
    },
    {
      "cell_type": "markdown",
      "source": [
        "# Q.29 Write a code that takes a tuple and an element as input. The function should return the count of occurrences of the given element in the tuple."
      ],
      "metadata": {
        "id": "J6qCrwKT0w6E"
      }
    },
    {
      "cell_type": "code",
      "source": [
        "def func(tup, element):\n",
        "  return tup.count(element)\n",
        "func((1, 1, 2, 3, 3, 2, 3, 3, 3), 3)"
      ],
      "metadata": {
        "colab": {
          "base_uri": "https://localhost:8080/"
        },
        "id": "1PiiF9tOSpDY",
        "outputId": "2fbcba4e-1899-4c4d-bb2e-64b80f741573"
      },
      "execution_count": 22,
      "outputs": [
        {
          "output_type": "execute_result",
          "data": {
            "text/plain": [
              "5"
            ]
          },
          "metadata": {},
          "execution_count": 22
        }
      ]
    },
    {
      "cell_type": "markdown",
      "source": [
        "#Q.30 Develop a code that prompts the user to input two sets of strings. Then, print the symmetric difference of these two sets."
      ],
      "metadata": {
        "id": "PHBGaiMs0w_8"
      }
    },
    {
      "cell_type": "code",
      "source": [
        "s1 = input(\"Enter the first set of string: \")\n",
        "s2 = input(\"Enter the second set of string: \")\n",
        "set1 = set(s1)\n",
        "set2 = set(s2)\n",
        "\n",
        "sym_diff = set1 ^ set2\n",
        "print(sym_diff)"
      ],
      "metadata": {
        "colab": {
          "base_uri": "https://localhost:8080/"
        },
        "id": "tk3T7yKAS7ZC",
        "outputId": "e92a9ae7-8f58-48c1-cc97-a4ab48f9f662"
      },
      "execution_count": 23,
      "outputs": [
        {
          "output_type": "stream",
          "name": "stdout",
          "text": [
            "Enter the first set of string: abcd\n",
            "Enter the second set of string: abcgt\n",
            "{'g', 't', 'd'}\n"
          ]
        }
      ]
    },
    {
      "cell_type": "markdown",
      "source": [
        "#Q.31 Write a code that takes a list of words as input and returns a dictionary where the keys are unique words and the values are the frequencies of those words in the input list."
      ],
      "metadata": {
        "id": "cNIKkeSx0xGM"
      }
    },
    {
      "cell_type": "code",
      "source": [
        "def func(lis):\n",
        "  freq = {}\n",
        "  for i in lis:\n",
        "    if i in freq:\n",
        "      freq[i] += 1\n",
        "    else:\n",
        "      freq[i] = 1\n",
        "  return freq\n",
        "\n",
        "func([\"apple\", \"mango\", \"mango\", \"apple\", \"apple\", \"banana\", \"grapes\", \"orange\", \"orange\", \"orange\"])"
      ],
      "metadata": {
        "colab": {
          "base_uri": "https://localhost:8080/"
        },
        "id": "_9YktdvjTTcN",
        "outputId": "c6b90f4a-94e1-472a-8011-f142cd625d69"
      },
      "execution_count": 24,
      "outputs": [
        {
          "output_type": "execute_result",
          "data": {
            "text/plain": [
              "{'apple': 3, 'mango': 2, 'banana': 1, 'grapes': 1, 'orange': 3}"
            ]
          },
          "metadata": {},
          "execution_count": 24
        }
      ]
    },
    {
      "cell_type": "markdown",
      "source": [
        "#Q.32 Write a code that takes two dictionaries as input and merges them into a single dictionary. If there are common keys, the values should be added together."
      ],
      "metadata": {
        "id": "JY9OpRZm0xMW"
      }
    },
    {
      "cell_type": "markdown",
      "source": [
        "Approach 1"
      ],
      "metadata": {
        "id": "YTMERLxGUZpx"
      }
    },
    {
      "cell_type": "code",
      "source": [
        "def func(dict1, dict2):\n",
        "  dict3 = dict1.copy()\n",
        "  for i in dict2:\n",
        "    if i in dict3:\n",
        "      dict3[i] += dict2[i]\n",
        "    else:\n",
        "      dict3[i] = dict2[i]\n",
        "  return dict3\n",
        "\n",
        "func({\"a\": 1, \"b\": 2, \"c\": 3}, {\"b\": 4, \"c\": 5, \"d\": 6})"
      ],
      "metadata": {
        "colab": {
          "base_uri": "https://localhost:8080/"
        },
        "id": "5wadMc-ITxFT",
        "outputId": "5b554403-c7da-4aea-e6a1-b29a7984fb2d"
      },
      "execution_count": 27,
      "outputs": [
        {
          "output_type": "execute_result",
          "data": {
            "text/plain": [
              "{'a': 1, 'b': 6, 'c': 8, 'd': 6}"
            ]
          },
          "metadata": {},
          "execution_count": 27
        }
      ]
    },
    {
      "cell_type": "markdown",
      "source": [
        "Approach 2"
      ],
      "metadata": {
        "id": "JlBVMBRwUbV2"
      }
    },
    {
      "cell_type": "code",
      "source": [
        "def merge_dicts(dict1, dict2):\n",
        "    merged = dict1.copy()  # Start with a copy of the first dictionary\n",
        "\n",
        "    for key, value in dict2.items():\n",
        "        if key in merged:\n",
        "            merged[key] += value  # Add values if key is common\n",
        "        else:\n",
        "            merged[key] = value  # Otherwise, just add the key-value pair\n",
        "\n",
        "    return merged\n",
        "\n",
        "# Example usage:\n",
        "dict1 = {'a': 10, 'b': 20, 'c': 30}\n",
        "dict2 = {'b': 5, 'c': 15, 'd': 40}\n",
        "\n",
        "result = merge_dicts(dict1, dict2)\n",
        "print(result)"
      ],
      "metadata": {
        "colab": {
          "base_uri": "https://localhost:8080/"
        },
        "id": "4U24yhK2UcUX",
        "outputId": "6a05f69a-805d-47f1-9e2c-f8dd7b6eda46"
      },
      "execution_count": 28,
      "outputs": [
        {
          "output_type": "stream",
          "name": "stdout",
          "text": [
            "{'a': 10, 'b': 25, 'c': 45, 'd': 40}\n"
          ]
        }
      ]
    },
    {
      "cell_type": "markdown",
      "source": [
        "#Q.33 Write a code to access a value in a nested dictionary. The function should take the dictionary and a list of keys as input, and return the corresponding value. If any of the keys do not exist in the dictionary, the function should return None"
      ],
      "metadata": {
        "id": "UHr3wlMV0xSX"
      }
    },
    {
      "cell_type": "code",
      "source": [
        "def get_nested_value(dictionary, keys):\n",
        "    current = dictionary\n",
        "    for key in keys:\n",
        "        if isinstance(current, dict) and key in current:\n",
        "            current = current[key]\n",
        "        else:\n",
        "            return \"Key not found\"\n",
        "    return current\n",
        "print(get_nested_value({'a': {'b': {'c': 42}}}, ['a', 'b', 'c']))      # ➜ 42\n",
        "print(get_nested_value({'a': {'b': {'c': 42}}}, ['a', 'x', 'c']))      # ➜ \"Key not found\""
      ],
      "metadata": {
        "colab": {
          "base_uri": "https://localhost:8080/"
        },
        "id": "l6-_xZr5Uowh",
        "outputId": "92e11a7f-07e1-4ead-fa82-9dbbaf5e5a0c"
      },
      "execution_count": 29,
      "outputs": [
        {
          "output_type": "stream",
          "name": "stdout",
          "text": [
            "42\n",
            "Key not found\n"
          ]
        }
      ]
    },
    {
      "cell_type": "markdown",
      "source": [
        "#Q.34 Write a code that takes a dictionary as input and returns a sorted version of it based on the values. Youcan choose whether to sort in ascending or descending order."
      ],
      "metadata": {
        "id": "K3GYaNj00xZF"
      }
    },
    {
      "cell_type": "code",
      "source": [
        "def sort_dict_by_values(input_dict, descending=False):\n",
        "    return dict(sorted(input_dict.items(), key=lambda item: item[1], reverse=descending))\n",
        "data = {'apple': 3, 'banana': 1, 'cherry': 2}\n",
        "\n",
        "# Sort in ascending order\n",
        "print(sort_dict_by_values(data))\n",
        "# Output: {'banana': 1, 'cherry': 2, 'apple': 3}\n",
        "\n",
        "# Sort in descending order\n",
        "print(sort_dict_by_values(data, descending=True))\n",
        "# Output: {'apple': 3, 'cherry': 2, 'banana': 1}\n"
      ],
      "metadata": {
        "colab": {
          "base_uri": "https://localhost:8080/"
        },
        "id": "eEiVPG1cVilS",
        "outputId": "ca20eb6f-35a8-415b-8963-d09215fc7ac3"
      },
      "execution_count": 31,
      "outputs": [
        {
          "output_type": "stream",
          "name": "stdout",
          "text": [
            "{'banana': 1, 'cherry': 2, 'apple': 3}\n",
            "{'apple': 3, 'cherry': 2, 'banana': 1}\n"
          ]
        }
      ]
    },
    {
      "cell_type": "markdown",
      "source": [
        "#Q.35 Write a code that inverts a dictionary, swapping keys and values. Ensure that the inverted dictionary correctly handles cases where multiple keys have the same value by storing the keys as a list in the inverted dictionary."
      ],
      "metadata": {
        "id": "GqzVAV7C3OUQ"
      }
    },
    {
      "cell_type": "code",
      "source": [
        "def invert_dict(d):\n",
        "    inverted = {}\n",
        "    for key, value in d.items():\n",
        "        if value not in inverted:\n",
        "            inverted[value] = [key]\n",
        "        else:\n",
        "            inverted[value].append(key)\n",
        "    return inverted\n",
        "\n",
        "original = {'a': 1, 'b': 2, 'c': 1, 'd': 3}\n",
        "print(invert_dict(original))"
      ],
      "metadata": {
        "colab": {
          "base_uri": "https://localhost:8080/"
        },
        "id": "3iwvffTkVrV5",
        "outputId": "9067276c-b44f-4645-9865-ee02dc744f1b"
      },
      "execution_count": 32,
      "outputs": [
        {
          "output_type": "stream",
          "name": "stdout",
          "text": [
            "{1: ['a', 'c'], 2: ['b'], 3: ['d']}\n"
          ]
        }
      ]
    }
  ]
}