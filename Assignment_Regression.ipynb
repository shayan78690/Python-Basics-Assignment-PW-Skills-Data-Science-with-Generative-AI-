{
  "nbformat": 4,
  "nbformat_minor": 0,
  "metadata": {
    "colab": {
      "provenance": []
    },
    "kernelspec": {
      "name": "python3",
      "display_name": "Python 3"
    },
    "language_info": {
      "name": "python"
    }
  },
  "cells": [
    {
      "cell_type": "markdown",
      "source": [
        "#1. What is Simple Linear Regression?"
      ],
      "metadata": {
        "id": "okI1-CrJcx1L"
      }
    },
    {
      "cell_type": "markdown",
      "source": [
        "Ans:- A statistical method used to model the relationship between a dependent variable (Y) and a single independent variable (X)."
      ],
      "metadata": {
        "id": "QUbw132Rcx4E"
      }
    },
    {
      "cell_type": "markdown",
      "source": [
        "#2.What are the key assumptions of Simple Linear Regression?\n",
        "\n"
      ],
      "metadata": {
        "id": "TyfTGqGicx6r"
      }
    },
    {
      "cell_type": "markdown",
      "source": [
        "Ans:- Linearity, independence, homoscedasticity (constant variance), normality of residuals, and no multicollinearity."
      ],
      "metadata": {
        "id": "RzH5ty_Ncx9n"
      }
    },
    {
      "cell_type": "markdown",
      "source": [
        "#3. What does the coefficient m represent in the equation Y = mX + c?\n",
        "\n"
      ],
      "metadata": {
        "id": "bKx3MH8dcyAl"
      }
    },
    {
      "cell_type": "markdown",
      "source": [
        "Ans:- The slope, indicating the rate of change in Y for a one-unit change in X.\n"
      ],
      "metadata": {
        "id": "GhhSB0vIcyDV"
      }
    },
    {
      "cell_type": "markdown",
      "source": [
        "#4.What does the intercept c represent in the equation Y = mX + c?\n",
        "\n"
      ],
      "metadata": {
        "id": "PC4s46AocyGN"
      }
    },
    {
      "cell_type": "markdown",
      "source": [
        "Ans:- The value of Y when X is zero.\n"
      ],
      "metadata": {
        "id": "wiulXceCcyI7"
      }
    },
    {
      "cell_type": "markdown",
      "source": [
        "#5.How do we calculate the slope m in Simple Linear Regression?\n",
        "\n"
      ],
      "metadata": {
        "id": "EanQrJCmcyLk"
      }
    },
    {
      "cell_type": "markdown",
      "source": [
        "Ans:- m = ∑ (Xi - X bar) (Yi - Y bar) / ∑ (Xi - X bar)^2"
      ],
      "metadata": {
        "id": "CZoJrzbBcyOU"
      }
    },
    {
      "cell_type": "markdown",
      "source": [
        "#6.What is the purpose of the least squares method in Simple Linear Regression?\n",
        "\n",
        "\n",
        "\n"
      ],
      "metadata": {
        "id": "V0BbK4X7cyQ9"
      }
    },
    {
      "cell_type": "markdown",
      "source": [
        "Ans:- To minimize the sum of squared residuals (differences between actual and predicted values).\n"
      ],
      "metadata": {
        "id": "vkVyjMoxcyTt"
      }
    },
    {
      "cell_type": "markdown",
      "source": [
        "#7.How is the coefficient of determination (R²) interpreted in Simple Linear Regression?\n",
        "\n"
      ],
      "metadata": {
        "id": "WPD24qebcyWm"
      }
    },
    {
      "cell_type": "markdown",
      "source": [
        "Ans:- It represents the proportion of variance in Y explained by X (closer to 1 indicates a better fit).\n"
      ],
      "metadata": {
        "id": "5nqWcuMJcyZT"
      }
    },
    {
      "cell_type": "markdown",
      "source": [
        "#8.What is Multiple Linear Regression?\n",
        "\n"
      ],
      "metadata": {
        "id": "8HX6nYa3cycH"
      }
    },
    {
      "cell_type": "markdown",
      "source": [
        "Ans:- An extension of Simple Linear Regression where multiple independent variables predict the dependent variable.\n"
      ],
      "metadata": {
        "id": "2bqBDg-Xcye5"
      }
    },
    {
      "cell_type": "markdown",
      "source": [
        "#9. What is the main difference between Simple and Multiple Linear Regression?\n",
        "\n"
      ],
      "metadata": {
        "id": "XXmdry2-cyh5"
      }
    },
    {
      "cell_type": "markdown",
      "source": [
        "Ans:- Simple regression has one independent variable, whereas multiple regression has two or more.\n"
      ],
      "metadata": {
        "id": "Y07hefiocylb"
      }
    },
    {
      "cell_type": "markdown",
      "source": [
        "#10.What are the key assumptions of Multiple Linear Regression?\n",
        "\n"
      ],
      "metadata": {
        "id": "MFBU3pbMcyo0"
      }
    },
    {
      "cell_type": "markdown",
      "source": [
        "Ans:- Linearity, independence, homoscedasticity, normality, and no multicollinearity.\n"
      ],
      "metadata": {
        "id": "SPeyzmu3cyrZ"
      }
    },
    {
      "cell_type": "markdown",
      "source": [
        "#11. What is heteroscedasticity, and how does it affect the results of a Multiple Linear Regression model?\n",
        "\n"
      ],
      "metadata": {
        "id": "0AklgaWYcyuB"
      }
    },
    {
      "cell_type": "markdown",
      "source": [
        "Ans:- It refers to non-constant variance in residuals, leading to inefficient and biased estimates.\n"
      ],
      "metadata": {
        "id": "XdZ8J7AscyxB"
      }
    },
    {
      "cell_type": "markdown",
      "source": [
        "#12. How can you improve a Multiple Linear Regression model with high multicollinearity?\n",
        "\n"
      ],
      "metadata": {
        "id": "_tgC8Bbecyzx"
      }
    },
    {
      "cell_type": "markdown",
      "source": [
        "Ans:- Use techniques like variance inflation factor (VIF) analysis, removing correlated variables, or applying regularization.\n"
      ],
      "metadata": {
        "id": "LAnPQALtcy2p"
      }
    },
    {
      "cell_type": "markdown",
      "source": [
        "#13. What are some common techniques for transforming categorical variables for use in regression models?\n",
        "\n"
      ],
      "metadata": {
        "id": "tmYMmhuvcy5h"
      }
    },
    {
      "cell_type": "markdown",
      "source": [
        "Ans:- One-hot encoding, label encoding, and dummy variables.\n"
      ],
      "metadata": {
        "id": "7Xa7vffYcy8T"
      }
    },
    {
      "cell_type": "markdown",
      "source": [
        "#14. What is the role of interaction terms in Multiple Linear Regression?\n",
        "\n"
      ],
      "metadata": {
        "id": "K3MAKARpcy_B"
      }
    },
    {
      "cell_type": "markdown",
      "source": [
        "Ans:- They capture the combined effect of two or more independent variables on the dependent variable.\n"
      ],
      "metadata": {
        "id": "Q6te645LczCC"
      }
    },
    {
      "cell_type": "markdown",
      "source": [
        "#15.How can the interpretation of intercept differ between Simple and Multiple Linear Regression?\n",
        "\n"
      ],
      "metadata": {
        "id": "75Y7Rt7wczE5"
      }
    },
    {
      "cell_type": "markdown",
      "source": [
        "Ans:- In multiple regression, the intercept represents the predicted value of Y when all independent variables are zero.\n"
      ],
      "metadata": {
        "id": "cdazKhWXczHq"
      }
    },
    {
      "cell_type": "markdown",
      "source": [
        "#16. What is the significance of the slope in regression analysis, and how does it affect predictions?\n",
        "\n"
      ],
      "metadata": {
        "id": "BOPaImmNczKa"
      }
    },
    {
      "cell_type": "markdown",
      "source": [
        "Ans:- It shows how much Y changes with a unit increase in X; a steeper slope indicates a stronger relationship.\n"
      ],
      "metadata": {
        "id": "HUGKrJ--czNK"
      }
    },
    {
      "cell_type": "markdown",
      "source": [
        "#17. How does the intercept in a regression model provide context for the relationship between variables?\n",
        "\n"
      ],
      "metadata": {
        "id": "Ha_eAtBCczQD"
      }
    },
    {
      "cell_type": "markdown",
      "source": [
        "Ans:- It sets the baseline value for Y when all predictors are zero.\n"
      ],
      "metadata": {
        "id": "RrbnMm6yczSr"
      }
    },
    {
      "cell_type": "markdown",
      "source": [
        "#18. What are the limitations of using R² as a sole measure of model performance?\n",
        "\n"
      ],
      "metadata": {
        "id": "95mTpt_NczVz"
      }
    },
    {
      "cell_type": "markdown",
      "source": [
        "Ans:- It doesn’t indicate causality, can be misleading with too many predictors, and doesn’t consider overfitting.\n"
      ],
      "metadata": {
        "id": "6DkIAhNRczYs"
      }
    },
    {
      "cell_type": "markdown",
      "source": [
        "#19. How would you interpret a large standard error for a regression coefficient?\n",
        "\n"
      ],
      "metadata": {
        "id": "BwugWvQiczbp"
      }
    },
    {
      "cell_type": "markdown",
      "source": [
        "It suggests high variability in the coefficient estimate, reducing confidence in predictions.\n"
      ],
      "metadata": {
        "id": "N5D-YQLsczei"
      }
    },
    {
      "cell_type": "markdown",
      "source": [
        "#20. How can heteroscedasticity be identified in residual plots, and why is it important to address it?\n",
        "\n"
      ],
      "metadata": {
        "id": "v5S8HpXlczhR"
      }
    },
    {
      "cell_type": "markdown",
      "source": [
        "Ans:- It appears as a funnel shape in residual plots; addressing it ensures reliable standard errors.\n"
      ],
      "metadata": {
        "id": "BoX2ZxRge2F0"
      }
    },
    {
      "cell_type": "markdown",
      "source": [
        "#21. What does it mean if a Multiple Linear Regression model has a high R² but low adjusted R²?\n",
        "\n"
      ],
      "metadata": {
        "id": "3aJUUyvKe4gE"
      }
    },
    {
      "cell_type": "markdown",
      "source": [
        "Ans:- It indicates that adding more variables doesn’t improve the model significantly.\n"
      ],
      "metadata": {
        "id": "z-gO6Rjve4kx"
      }
    },
    {
      "cell_type": "markdown",
      "source": [
        "#22. Why is it important to scale variables in Multiple Linear Regression?\n",
        "\n"
      ],
      "metadata": {
        "id": "O-C_cJ9Ae4t3"
      }
    },
    {
      "cell_type": "markdown",
      "source": [
        "Ans:- To prevent large-scale differences from dominating the regression coefficients and improve model stability.\n"
      ],
      "metadata": {
        "id": "eE6EKtLJe4x2"
      }
    },
    {
      "cell_type": "markdown",
      "source": [
        "#23. What is polynomial regression?\n",
        "\n"
      ],
      "metadata": {
        "id": "g7Nt4EkMe45O"
      }
    },
    {
      "cell_type": "markdown",
      "source": [
        "Ans:- A regression technique where the relationship between variables is modeled as an nth-degree polynomial.\n"
      ],
      "metadata": {
        "id": "x0hGJdF7e48_"
      }
    },
    {
      "cell_type": "markdown",
      "source": [
        "#24. How does polynomial regression differ from linear regression?\n",
        "\n"
      ],
      "metadata": {
        "id": "k_Rm52Ooe5FU"
      }
    },
    {
      "cell_type": "markdown",
      "source": [
        "Ans:- It captures non-linear relationships, whereas linear regression assumes a straight-line relationship.\n"
      ],
      "metadata": {
        "id": "NlHbVDMDe5If"
      }
    },
    {
      "cell_type": "markdown",
      "source": [
        "#25. When is polynomial regression used?\n",
        "\n"
      ],
      "metadata": {
        "id": "FRPQH6Qse5PY"
      }
    },
    {
      "cell_type": "markdown",
      "source": [
        "Ans:- When data exhibits a curved or non-linear trend.\n"
      ],
      "metadata": {
        "id": "L0Fislqde5Sg"
      }
    },
    {
      "cell_type": "markdown",
      "source": [
        "#26. What is the general equation for polynomial regression?\n",
        "\n"
      ],
      "metadata": {
        "id": "GYghy_nbe5bN"
      }
    },
    {
      "cell_type": "markdown",
      "source": [
        "![Screenshot 2025-02-15 221217.png](data:image/png;base64,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)"
      ],
      "metadata": {
        "id": "Lp4-TQcDe5eU"
      }
    },
    {
      "cell_type": "markdown",
      "source": [
        "#27.Can polynomial regression be applied to multiple variables?\n",
        "\n"
      ],
      "metadata": {
        "id": "ccvJRC_We5mG"
      }
    },
    {
      "cell_type": "markdown",
      "source": [
        "Ans:- Yes, it extends to multiple variables (multivariate polynomial regression).\n"
      ],
      "metadata": {
        "id": "iNW4rdCLe5pH"
      }
    },
    {
      "cell_type": "markdown",
      "source": [
        "#28. What are the limitations of polynomial regression?\n",
        "\n"
      ],
      "metadata": {
        "id": "5mPhzpeRe5wm"
      }
    },
    {
      "cell_type": "markdown",
      "source": [
        "Ans:- Overfitting, high sensitivity to outliers, and difficulty in interpretation.\n"
      ],
      "metadata": {
        "id": "lScNUDo6e5zw"
      }
    },
    {
      "cell_type": "markdown",
      "source": [
        "#29. What methods can be used to evaluate model fit when selecting the degree of a polynomial?\n",
        "\n"
      ],
      "metadata": {
        "id": "fNUVE7fUe57f"
      }
    },
    {
      "cell_type": "markdown",
      "source": [
        "Ans:- Cross-validation, adjusted R², and mean squared error (MSE).\n"
      ],
      "metadata": {
        "id": "ZwyujrVve5-n"
      }
    },
    {
      "cell_type": "markdown",
      "source": [
        "#30. Why is visualization important in polynomial regression?\n",
        "\n"
      ],
      "metadata": {
        "id": "XA0_zKdwe6GQ"
      }
    },
    {
      "cell_type": "markdown",
      "source": [
        "Ans:- It helps in identifying the best polynomial degree and detecting overfitting.\n"
      ],
      "metadata": {
        "id": "JRQ9j1aye6Jh"
      }
    },
    {
      "cell_type": "markdown",
      "source": [
        "#31. How is polynomial regression implemented in Python?\n",
        "\n"
      ],
      "metadata": {
        "id": "k-rgG9kSe6SV"
      }
    },
    {
      "cell_type": "markdown",
      "source": [
        "Ans:- Using PolynomialFeatures from sklearn.preprocessing along with LinearRegression.\n"
      ],
      "metadata": {
        "id": "AckE3zHBe6Vr"
      }
    }
  ]
}